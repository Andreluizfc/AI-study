{
  "nbformat": 4,
  "nbformat_minor": 0,
  "metadata": {
    "colab": {
      "name": "Fashion-MNIST_Classification_NN.ipynb",
      "provenance": [],
      "include_colab_link": true
    },
    "kernelspec": {
      "name": "python3",
      "display_name": "Python 3"
    }
  },
  "cells": [
    {
      "cell_type": "markdown",
      "metadata": {
        "id": "view-in-github",
        "colab_type": "text"
      },
      "source": [
        "<a href=\"https://colab.research.google.com/github/Andreluizfc/AI-study/blob/master/exercises/neural_networks/Fashion_MNIST_Classification_NN.ipynb\" target=\"_parent\"><img src=\"https://colab.research.google.com/assets/colab-badge.svg\" alt=\"Open In Colab\"/></a>"
      ]
    },
    {
      "cell_type": "markdown",
      "metadata": {
        "id": "u0IWPxSEh4zE"
      },
      "source": [
        "# Modelo de classificação simples - Functional AP"
      ]
    },
    {
      "cell_type": "markdown",
      "metadata": {
        "id": "-0HOuAv2iDzi"
      },
      "source": [
        "Neste exemplo vamos realizar a classificação de imagens com o módulo Functional API do tf2\n",
        "\n",
        "O Functional API permete criar modelos com mais flexibilidade que o módulo Sequential. Como topologias não lineares, pesos compartilhados, por exemplo, possibilitando criar Redes Siamesas, GANs, dentre outros"
      ]
    },
    {
      "cell_type": "code",
      "metadata": {
        "id": "kqQtarGdwUOc"
      },
      "source": [
        "import tensorflow as tf\n",
        "import numpy as np\n",
        "import matplotlib.pyplot as plt"
      ],
      "execution_count": 1,
      "outputs": []
    },
    {
      "cell_type": "markdown",
      "metadata": {
        "id": "be3AIYvKjUQ_"
      },
      "source": [
        "Neste exemplo vamos utilizar o dataset Fashion Mnist, um dataset de peça de roupas que herda parte do nome do clássifo Mnist de números escritos a mão.\n",
        "\n",
        "O dataset está disponível nas bibliotecas do tensorflow, já no formato de dataset do TF"
      ]
    },
    {
      "cell_type": "code",
      "metadata": {
        "id": "c9evo1QLwbTc"
      },
      "source": [
        "fashion_mnist = tf.keras.datasets.fashion_mnist\n",
        "\n",
        "(train_images, train_labels), (test_images, test_labels) = fashion_mnist.load_data()"
      ],
      "execution_count": 30,
      "outputs": []
    },
    {
      "cell_type": "code",
      "metadata": {
        "id": "SR3dVI87zoq0",
        "outputId": "efd7faa4-e381-4e63-b13f-058e7a32e9e7",
        "colab": {
          "base_uri": "https://localhost:8080/"
        }
      },
      "source": [
        "train_images.shape"
      ],
      "execution_count": 31,
      "outputs": [
        {
          "output_type": "execute_result",
          "data": {
            "text/plain": [
              "(60000, 28, 28)"
            ]
          },
          "metadata": {
            "tags": []
          },
          "execution_count": 31
        }
      ]
    },
    {
      "cell_type": "code",
      "metadata": {
        "id": "3jKE2AfwkP2b",
        "outputId": "363a4f5b-dcda-4149-f34a-1d5bb2eb05ef",
        "colab": {
          "base_uri": "https://localhost:8080/"
        }
      },
      "source": [
        "test_images.shape"
      ],
      "execution_count": 4,
      "outputs": [
        {
          "output_type": "execute_result",
          "data": {
            "text/plain": [
              "(10000, 28, 28)"
            ]
          },
          "metadata": {
            "tags": []
          },
          "execution_count": 4
        }
      ]
    },
    {
      "cell_type": "code",
      "metadata": {
        "id": "VZHl02WJwfGs",
        "outputId": "83ed795c-11b6-41c8-b4bf-e1c5117b1cde",
        "colab": {
          "base_uri": "https://localhost:8080/"
        }
      },
      "source": [
        "train_labels"
      ],
      "execution_count": null,
      "outputs": [
        {
          "output_type": "execute_result",
          "data": {
            "text/plain": [
              "array([9, 0, 0, ..., 3, 0, 5], dtype=uint8)"
            ]
          },
          "metadata": {
            "tags": []
          },
          "execution_count": 5
        }
      ]
    },
    {
      "cell_type": "code",
      "metadata": {
        "id": "sZ72RqQTAenw"
      },
      "source": [
        "class_names = ['T-shirt/top', 'Trouser', 'Pullover', 'Dress', 'Coat',\n",
        "               'Sandal', 'Shirt', 'Sneaker', 'Bag', 'Ankle boot']"
      ],
      "execution_count": 5,
      "outputs": []
    },
    {
      "cell_type": "markdown",
      "metadata": {
        "id": "sq2rFkxRwwnN"
      },
      "source": [
        "O dataset possui 60 mil exemplos de treino e 10 mil exemplos de teste divididos em 10 classes. As classes estão já representadas numericamente, e cada label representa:\n",
        "\n",
        "* 0\tCamisetas/Top (T-shirt/top)\n",
        "* 1\tCalça (Trouser)\n",
        "* 2\tSuéter (Pullover)\n",
        "* 3\tVestidos (Dress)\n",
        "* 4\tCasaco (Coat)\n",
        "* 5\tSandálias (Sandal)\n",
        "* 6\tCamisas (Shirt)\n",
        "* 7\tTênis (Sneaker)\n",
        "* 8\tBolsa (Bag)\n",
        "* 9\tBotas (Ankle boot)\n"
      ]
    },
    {
      "cell_type": "code",
      "metadata": {
        "id": "HhN6obUe-wbA"
      },
      "source": [
        "#Função auxiliar para plotar imagem\n",
        "\n",
        "def plot_img(img):\n",
        "  plt.figure()\n",
        "  plt.imshow(img, cmap=plt.cm.binary)\n",
        "  plt.colorbar()\n",
        "  plt.grid(False)\n",
        "  plt.show()"
      ],
      "execution_count": 6,
      "outputs": []
    },
    {
      "cell_type": "code",
      "metadata": {
        "id": "LTJ78icewo03",
        "outputId": "cbd851ca-2121-4d89-de2b-570f56387794",
        "colab": {
          "base_uri": "https://localhost:8080/",
          "height": 265
        }
      },
      "source": [
        "plot_img(train_images[1])"
      ],
      "execution_count": 8,
      "outputs": [
        {
          "output_type": "display_data",
          "data": {
            "image/png": "[encoded data removed]",
            "text/plain": [
              "<Figure size 432x288 with 2 Axes>"
            ]
          },
          "metadata": {
            "tags": [],
            "needs_background": "light"
          }
        }
      ]
    },
    {
      "cell_type": "markdown",
      "metadata": {
        "id": "hnCSa56Gkt5B"
      },
      "source": [
        "Um passo importante para um treinamento estável é normalizar os daos para que tenham o valores entre 0 e 1. Como nas imagens do nosso dataset os pixels possuem valor de 0 a 255, basta dividir tudo por 255"
      ]
    },
    {
      "cell_type": "code",
      "metadata": {
        "id": "DKFMlvPPxojs"
      },
      "source": [
        "train_images = train_images / 255.0\n",
        "test_images = test_images / 255.0"
      ],
      "execution_count": 9,
      "outputs": []
    },
    {
      "cell_type": "markdown",
      "metadata": {
        "id": "EvE6t3n0m4Zl"
      },
      "source": [
        "## Criando e salvando um modelo"
      ]
    },
    {
      "cell_type": "markdown",
      "metadata": {
        "id": "hpR0r2z9lVjE"
      },
      "source": [
        "No módulo *Sequential*, a rede é criada a partir de uma lista de *layers* colocadas em sequência.\n",
        "\n",
        "No Funcional API, cada *layer* é criada individualmente, e elas recebem como entrada saídas de outras *layers*. Isso proporciona mais maleabilidade, podendo uma saída ser entrada de duas camadas, propciando a criação de Redes Siamesas e Skip Conection"
      ]
    },
    {
      "cell_type": "code",
      "metadata": {
        "id": "V9Y_HRMrx11E"
      },
      "source": [
        "def create_model(layers):\n",
        "  x_in = tf.keras.Input(shape=(28, 28))\n",
        "  x = tf.keras.layers.Flatten()(x_in)\n",
        "  \n",
        "  for i, layer_size in enumerate(layers):\n",
        "    x = tf.keras.layers.Dense(layer_size, activation='relu')(x)\n",
        "  \n",
        "  output = tf.keras.layers.Dense(10, activation='softmax')(x)\n",
        "  \n",
        "  model = tf.keras.Model(inputs=x_in, outputs=output)\n",
        "  model.compile(loss=tf.keras.losses.SparseCategoricalCrossentropy(),\n",
        "                optimizer='adam',\n",
        "                metrics=['accuracy'])\n",
        "  return model"
      ],
      "execution_count": null,
      "outputs": []
    },
    {
      "cell_type": "code",
      "metadata": {
        "id": "MwEhXCFK13l9"
      },
      "source": [
        "my_model = create_model([128, 128])"
      ],
      "execution_count": null,
      "outputs": []
    },
    {
      "cell_type": "code",
      "metadata": {
        "id": "P9WXQEw_4CLb",
        "outputId": "d65cd552-e5ab-4b27-88f0-531db5f085bd",
        "colab": {
          "base_uri": "https://localhost:8080/"
        }
      },
      "source": [
        "my_model.summary()"
      ],
      "execution_count": null,
      "outputs": [
        {
          "output_type": "stream",
          "text": [
            "Model: \"functional_3\"\n",
            "_________________________________________________________________\n",
            "Layer (type)                 Output Shape              Param #   \n",
            "=================================================================\n",
            "input_2 (InputLayer)         [(None, 28, 28)]          0         \n",
            "_________________________________________________________________\n",
            "flatten_1 (Flatten)          (None, 784)               0         \n",
            "_________________________________________________________________\n",
            "dense_3 (Dense)              (None, 128)               100480    \n",
            "_________________________________________________________________\n",
            "dense_4 (Dense)              (None, 128)               16512     \n",
            "_________________________________________________________________\n",
            "dense_5 (Dense)              (None, 10)                1290      \n",
            "=================================================================\n",
            "Total params: 118,282\n",
            "Trainable params: 118,282\n",
            "Non-trainable params: 0\n",
            "_________________________________________________________________\n"
          ],
          "name": "stdout"
        }
      ]
    },
    {
      "cell_type": "code",
      "metadata": {
        "id": "lRoDqHDj4iHQ",
        "outputId": "b17c8ef7-2093-4bc6-9aad-0b51dee07545",
        "colab": {
          "base_uri": "https://localhost:8080/"
        }
      },
      "source": [
        "my_model.fit(x=train_images, y=train_labels, epochs=5)"
      ],
      "execution_count": null,
      "outputs": [
        {
          "output_type": "stream",
          "text": [
            "Epoch 1/5\n",
            "1875/1875 [==============================] - 4s 2ms/step - loss: 0.2516 - accuracy: 0.9040\n",
            "Epoch 2/5\n",
            "1875/1875 [==============================] - 4s 2ms/step - loss: 0.2429 - accuracy: 0.9090\n",
            "Epoch 3/5\n",
            "1875/1875 [==============================] - 4s 2ms/step - loss: 0.2339 - accuracy: 0.9113\n",
            "Epoch 4/5\n",
            "1875/1875 [==============================] - 4s 2ms/step - loss: 0.2268 - accuracy: 0.9132\n",
            "Epoch 5/5\n",
            "1875/1875 [==============================] - 4s 2ms/step - loss: 0.2158 - accuracy: 0.9163\n"
          ],
          "name": "stdout"
        },
        {
          "output_type": "execute_result",
          "data": {
            "text/plain": [
              "<tensorflow.python.keras.callbacks.History at 0x7fa536ecc358>"
            ]
          },
          "metadata": {
            "tags": []
          },
          "execution_count": 26
        }
      ]
    },
    {
      "cell_type": "markdown",
      "metadata": {
        "id": "4f7bvcbVnCZU"
      },
      "source": [
        "Teste do modelo"
      ]
    },
    {
      "cell_type": "code",
      "metadata": {
        "id": "pKXk0mR-4rxI",
        "outputId": "8251eb9c-fa70-4228-e324-94c1bb4bf29b",
        "colab": {
          "base_uri": "https://localhost:8080/"
        }
      },
      "source": [
        "my_model.evaluate(test_images, test_labels)"
      ],
      "execution_count": null,
      "outputs": [
        {
          "output_type": "stream",
          "text": [
            "313/313 [==============================] - 0s 1ms/step - loss: 0.3375 - accuracy: 0.8815\n"
          ],
          "name": "stdout"
        },
        {
          "output_type": "execute_result",
          "data": {
            "text/plain": [
              "[0.33747297525405884, 0.8815000057220459]"
            ]
          },
          "metadata": {
            "tags": []
          },
          "execution_count": 32
        }
      ]
    },
    {
      "cell_type": "code",
      "metadata": {
        "id": "1n-O77JB_DCj",
        "outputId": "99a132d5-de8c-46ed-8d8c-9340a02a168f",
        "colab": {
          "base_uri": "https://localhost:8080/",
          "height": 35
        }
      },
      "source": [
        "img = test_images[0]\n",
        "img = (np.expand_dims(img,0))\n",
        "class_names[test_labels[0]]"
      ],
      "execution_count": null,
      "outputs": [
        {
          "output_type": "execute_result",
          "data": {
            "application/vnd.google.colaboratory.intrinsic+json": {
              "type": "string"
            },
            "text/plain": [
              "'Ankle boot'"
            ]
          },
          "metadata": {
            "tags": []
          },
          "execution_count": 29
        }
      ]
    },
    {
      "cell_type": "code",
      "metadata": {
        "id": "QfNWuXno-pDa",
        "outputId": "8bed84cb-fe67-450b-c688-901438135d49",
        "colab": {
          "base_uri": "https://localhost:8080/",
          "height": 269
        }
      },
      "source": [
        "plot_img(test_images[0])"
      ],
      "execution_count": null,
      "outputs": [
        {
          "output_type": "display_data",
          "data": {
            "image/png": "[encoded data removed]",
            "text/plain": [
              "<Figure size 432x288 with 2 Axes>"
            ]
          },
          "metadata": {
            "tags": [],
            "needs_background": "light"
          }
        }
      ]
    },
    {
      "cell_type": "code",
      "metadata": {
        "id": "tvJml7E__iLV",
        "outputId": "cfed4b10-6ef3-4724-a60f-ac5b18e15738",
        "colab": {
          "base_uri": "https://localhost:8080/"
        }
      },
      "source": [
        "preds = my_model.predict(img)\n",
        "preds"
      ],
      "execution_count": null,
      "outputs": [
        {
          "output_type": "execute_result",
          "data": {
            "text/plain": [
              "array([[3.2199743e-05, 2.1869339e-06, 1.2368987e-05, 4.5043034e-05,\n",
              "        1.8541940e-04, 3.8284680e-03, 5.0796098e-05, 7.7377610e-02,\n",
              "        6.7592066e-07, 9.1846532e-01]], dtype=float32)"
            ]
          },
          "metadata": {
            "tags": []
          },
          "execution_count": 31
        }
      ]
    },
    {
      "cell_type": "markdown",
      "metadata": {
        "id": "Wbpf1Ua0nrm_"
      },
      "source": [
        "Salvando o modelo treinado"
      ]
    },
    {
      "cell_type": "code",
      "metadata": {
        "id": "9JRkld5nAO5c"
      },
      "source": [
        "my_model.save('fasion_mnist.h5')"
      ],
      "execution_count": null,
      "outputs": []
    },
    {
      "cell_type": "code",
      "metadata": {
        "id": "U_NTtUGFBfhF"
      },
      "source": [
        "loaded_models = tf.keras.models.load_model('fasion_mnist.h5')"
      ],
      "execution_count": null,
      "outputs": []
    },
    {
      "cell_type": "code",
      "metadata": {
        "id": "xYRZteirBrcL"
      },
      "source": [
        "loaded_models.predict(img)"
      ],
      "execution_count": null,
      "outputs": []
    },
    {
      "cell_type": "code",
      "metadata": {
        "id": "ZVnxHiPaB0Mg"
      },
      "source": [
        ""
      ],
      "execution_count": null,
      "outputs": []
    },
    {
      "cell_type": "markdown",
      "metadata": {
        "id": "R3N1soktpj2E"
      },
      "source": [
        "## Definindo uma arquitetura com CNN"
      ]
    },
    {
      "cell_type": "code",
      "metadata": {
        "id": "yvgNQptuuUOR"
      },
      "source": [
        "train_images = train_images.reshape((train_images.shape[0], 28, 28, 1))\n",
        "test_images = test_images.reshape((test_images.shape[0], 28, 28, 1))"
      ],
      "execution_count": 33,
      "outputs": []
    },
    {
      "cell_type": "code",
      "metadata": {
        "id": "cwu34pIxxsjG"
      },
      "source": [
        "from keras.utils import to_categorical\n",
        "\n",
        "train_labels = to_categorical(train_labels)\n",
        "test_labels = to_categorical(test_labels)"
      ],
      "execution_count": 36,
      "outputs": []
    },
    {
      "cell_type": "code",
      "metadata": {
        "id": "UbCcywEy4SWT"
      },
      "source": [
        "callback = tf.keras.callbacks.EarlyStopping(\n",
        "    monitor='val_loss', min_delta=0, patience=5, verbose=0, mode='auto',\n",
        "    baseline=None, restore_best_weights=False\n",
        ")"
      ],
      "execution_count": 66,
      "outputs": []
    },
    {
      "cell_type": "code",
      "metadata": {
        "id": "0exaLdNzp_lH"
      },
      "source": [
        "from keras import layers\n",
        "from keras import models\n",
        "\n",
        "model = models.Sequential()\n",
        "model.add(layers.Conv2D(32, (3, 3), activation='relu', input_shape=(28, 28, 1)))\n",
        "model.add(layers.MaxPooling2D((2, 2)))\n",
        "model.add(layers.Conv2D(64, (3, 3), activation='relu'))\n",
        "model.add(layers.MaxPooling2D((2, 2)))\n",
        "model.add(layers.Conv2D(64, (3, 3), activation='relu'))\n",
        "model.add(layers.Flatten())\n",
        "model.add(layers.Dense(64, activation='relu'))\n",
        "model.add(layers.Dense(10, activation='softmax'))"
      ],
      "execution_count": 67,
      "outputs": []
    },
    {
      "cell_type": "code",
      "metadata": {
        "id": "2VAfGDVPqMsF",
        "outputId": "d2428ad1-8aed-43d8-efa7-b4b97a8bda05",
        "colab": {
          "base_uri": "https://localhost:8080/"
        }
      },
      "source": [
        "model.summary()"
      ],
      "execution_count": 68,
      "outputs": [
        {
          "output_type": "stream",
          "text": [
            "Model: \"sequential_9\"\n",
            "_________________________________________________________________\n",
            "Layer (type)                 Output Shape              Param #   \n",
            "=================================================================\n",
            "conv2d_19 (Conv2D)           (None, 26, 26, 32)        320       \n",
            "_________________________________________________________________\n",
            "max_pooling2d_10 (MaxPooling (None, 13, 13, 32)        0         \n",
            "_________________________________________________________________\n",
            "conv2d_20 (Conv2D)           (None, 11, 11, 64)        18496     \n",
            "_________________________________________________________________\n",
            "max_pooling2d_11 (MaxPooling (None, 5, 5, 64)          0         \n",
            "_________________________________________________________________\n",
            "conv2d_21 (Conv2D)           (None, 3, 3, 64)          36928     \n",
            "_________________________________________________________________\n",
            "flatten_5 (Flatten)          (None, 576)               0         \n",
            "_________________________________________________________________\n",
            "dense_10 (Dense)             (None, 64)                36928     \n",
            "_________________________________________________________________\n",
            "dense_11 (Dense)             (None, 10)                650       \n",
            "=================================================================\n",
            "Total params: 93,322\n",
            "Trainable params: 93,322\n",
            "Non-trainable params: 0\n",
            "_________________________________________________________________\n"
          ],
          "name": "stdout"
        }
      ]
    },
    {
      "cell_type": "code",
      "metadata": {
        "id": "ttu6f9t-rLMN",
        "outputId": "5b5650d2-bb34-4d16-a910-61a62fcf95c2",
        "colab": {
          "base_uri": "https://localhost:8080/"
        }
      },
      "source": [
        "model.compile(optimizer='rmsprop',\n",
        "              loss='categorical_crossentropy',\n",
        "              metrics=['accuracy'])\n",
        "history = model.fit(train_images, train_labels, epochs=20, batch_size=64, validation_data=(test_images, test_labels), callbacks=callback)"
      ],
      "execution_count": 69,
      "outputs": [
        {
          "output_type": "stream",
          "text": [
            "Epoch 1/20\n",
            "938/938 [==============================] - 50s 54ms/step - loss: 0.6984 - accuracy: 0.8049 - val_loss: 0.3991 - val_accuracy: 0.8564\n",
            "Epoch 2/20\n",
            "938/938 [==============================] - 51s 54ms/step - loss: 0.3434 - accuracy: 0.8756 - val_loss: 0.4118 - val_accuracy: 0.8556\n",
            "Epoch 3/20\n",
            "938/938 [==============================] - 51s 55ms/step - loss: 0.3096 - accuracy: 0.8890 - val_loss: 0.3731 - val_accuracy: 0.8781\n",
            "Epoch 4/20\n",
            "938/938 [==============================] - 51s 55ms/step - loss: 0.2908 - accuracy: 0.8965 - val_loss: 0.3624 - val_accuracy: 0.8845\n",
            "Epoch 5/20\n",
            "938/938 [==============================] - 51s 55ms/step - loss: 0.2881 - accuracy: 0.8971 - val_loss: 0.3716 - val_accuracy: 0.8747\n",
            "Epoch 6/20\n",
            "938/938 [==============================] - 51s 55ms/step - loss: 0.2843 - accuracy: 0.9002 - val_loss: 0.3888 - val_accuracy: 0.8601\n",
            "Epoch 7/20\n",
            "938/938 [==============================] - 51s 55ms/step - loss: 0.2836 - accuracy: 0.9011 - val_loss: 0.4740 - val_accuracy: 0.8362\n",
            "Epoch 8/20\n",
            "938/938 [==============================] - 51s 55ms/step - loss: 0.2895 - accuracy: 0.8986 - val_loss: 0.3894 - val_accuracy: 0.8603\n",
            "Epoch 9/20\n",
            "938/938 [==============================] - 51s 54ms/step - loss: 0.2942 - accuracy: 0.8998 - val_loss: 0.4346 - val_accuracy: 0.8743\n"
          ],
          "name": "stdout"
        }
      ]
    },
    {
      "cell_type": "code",
      "metadata": {
        "id": "7eGiaN1eyz_P",
        "outputId": "80441756-df61-45fc-e19a-705d3755f8c8",
        "colab": {
          "base_uri": "https://localhost:8080/"
        }
      },
      "source": [
        "model.evaluate(test_images, test_labels)"
      ],
      "execution_count": 70,
      "outputs": [
        {
          "output_type": "stream",
          "text": [
            "313/313 [==============================] - 3s 10ms/step - loss: 0.4346 - accuracy: 0.8743\n"
          ],
          "name": "stdout"
        },
        {
          "output_type": "execute_result",
          "data": {
            "text/plain": [
              "[0.43463101983070374, 0.8743000030517578]"
            ]
          },
          "metadata": {
            "tags": []
          },
          "execution_count": 70
        }
      ]
    },
    {
      "cell_type": "code",
      "metadata": {
        "id": "7Kka-Nwk01u1",
        "outputId": "0b35a468-162d-466d-ec27-1b078c1ce610",
        "colab": {
          "base_uri": "https://localhost:8080/"
        }
      },
      "source": [
        "history_dict = history.history\n",
        "history_dict.keys()"
      ],
      "execution_count": 71,
      "outputs": [
        {
          "output_type": "execute_result",
          "data": {
            "text/plain": [
              "dict_keys(['loss', 'accuracy', 'val_loss', 'val_accuracy'])"
            ]
          },
          "metadata": {
            "tags": []
          },
          "execution_count": 71
        }
      ]
    },
    {
      "cell_type": "code",
      "metadata": {
        "id": "lpnYr_hr072u",
        "outputId": "5161a8fe-945e-4e27-84bb-70690f247a71",
        "colab": {
          "base_uri": "https://localhost:8080/",
          "height": 295
        }
      },
      "source": [
        "import matplotlib.pyplot as plt\n",
        "\n",
        "acc = history.history['accuracy']\n",
        "val_acc = history.history['val_accuracy']\n",
        "loss = history.history['loss']\n",
        "val_loss = history.history['val_loss']\n",
        "\n",
        "epochs = range(1, len(acc) + 1)\n",
        "\n",
        "# \"bo\" is for \"blue dot\"\n",
        "plt.plot(epochs, loss, 'bo', label='Training loss')\n",
        "# b is for \"solid blue line\"\n",
        "plt.plot(epochs, val_loss, 'b', label='Validation loss')\n",
        "plt.title('Training and validation loss')\n",
        "plt.xlabel('Epochs')\n",
        "plt.ylabel('Loss')\n",
        "plt.legend()\n",
        "\n",
        "plt.show()"
      ],
      "execution_count": 72,
      "outputs": [
        {
          "output_type": "display_data",
          "data": {
            "image/png": "[encoded data removed]",
            "text/plain": [
              "<Figure size 432x288 with 1 Axes>"
            ]
          },
          "metadata": {
            "tags": [],
            "needs_background": "light"
          }
        }
      ]
    },
    {
      "cell_type": "code",
      "metadata": {
        "id": "8WBncogR34TB",
        "outputId": "4e61d169-e355-4fa0-e433-86f5ab687843",
        "colab": {
          "base_uri": "https://localhost:8080/",
          "height": 295
        }
      },
      "source": [
        "plt.clf()   # clear figure\n",
        "acc_values = history_dict['accuracy']\n",
        "val_acc_values = history_dict['val_accuracy']\n",
        "\n",
        "plt.plot(epochs, acc, 'bo', label='Training acc')\n",
        "plt.plot(epochs, val_acc, 'b', label='Validation acc')\n",
        "plt.title('Training and validation accuracy')\n",
        "plt.xlabel('Epochs')\n",
        "plt.ylabel('Loss')\n",
        "plt.legend()\n",
        "\n",
        "plt.show()"
      ],
      "execution_count": 73,
      "outputs": [
        {
          "output_type": "display_data",
          "data": {
            "image/png": "[encoded data removed]",
            "text/plain": [
              "<Figure size 432x288 with 1 Axes>"
            ]
          },
          "metadata": {
            "tags": [],
            "needs_background": "light"
          }
        }
      ]
    },
    {
      "cell_type": "markdown",
      "metadata": {
        "id": "unmHoCz66u3P"
      },
      "source": [
        "A partir da época 4 o modelo pareceu ter um overfit"
      ]
    },
    {
      "cell_type": "code",
      "metadata": {
        "id": "l4s7CQPzy_uA"
      },
      "source": [
        " # plot diagnostic learning curves\n",
        "def plot_loss(history):\n",
        "  # plot loss\n",
        "  \n",
        "  plt.title('Loss')\n",
        "  plt.plot(history.history['loss'], color='blue', label='train')\n",
        "  plt.plot(history.history['val_loss'], color='orange', label='test')\n",
        "  # plot accuracy\n",
        "\n",
        "def plot_acc(history):\n",
        "  plt.title('Classification Accuracy')\n",
        "  plt.plot(history.history['accuracy'], color='blue', label='train')\n",
        "  plt.plot(history.history['val_accuracy'], color='orange', label='test')\n",
        "  plt.show()"
      ],
      "execution_count": 83,
      "outputs": []
    },
    {
      "cell_type": "code",
      "metadata": {
        "id": "_OlF1---zGP0",
        "outputId": "fc98334c-1fa1-41e7-fbb1-74411284db66",
        "colab": {
          "base_uri": "https://localhost:8080/",
          "height": 281
        }
      },
      "source": [
        "plot_loss(history)"
      ],
      "execution_count": 84,
      "outputs": [
        {
          "output_type": "display_data",
          "data": {
            "image/png": "[encoded data removed]",
            "text/plain": [
              "<Figure size 432x288 with 1 Axes>"
            ]
          },
          "metadata": {
            "tags": [],
            "needs_background": "light"
          }
        }
      ]
    },
    {
      "cell_type": "code",
      "metadata": {
        "id": "ymLmUp937u2t",
        "outputId": "cd1bea55-39d9-4083-b96c-76ca2a60773e",
        "colab": {
          "base_uri": "https://localhost:8080/",
          "height": 281
        }
      },
      "source": [
        "plot_acc(history)"
      ],
      "execution_count": 86,
      "outputs": [
        {
          "output_type": "display_data",
          "data": {
            "image/png": "[encoded data removed]",
            "text/plain": [
              "<Figure size 432x288 with 1 Axes>"
            ]
          },
          "metadata": {
            "tags": [],
            "needs_background": "light"
          }
        }
      ]
    }
  ]
}