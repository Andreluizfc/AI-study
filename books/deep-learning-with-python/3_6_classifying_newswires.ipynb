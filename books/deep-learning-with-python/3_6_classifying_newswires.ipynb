{
  "nbformat": 4,
  "nbformat_minor": 0,
  "metadata": {
    "kernelspec": {
      "display_name": "Python 3",
      "language": "python",
      "name": "python3"
    },
    "language_info": {
      "codemirror_mode": {
        "name": "ipython",
        "version": 3
      },
      "file_extension": ".py",
      "mimetype": "text/x-python",
      "name": "python",
      "nbconvert_exporter": "python",
      "pygments_lexer": "ipython3",
      "version": "3.5.2"
    },
    "colab": {
      "name": "3.6-classifying-newswires.ipynb",
      "provenance": [],
      "include_colab_link": true
    }
  },
  "cells": [
    {
      "cell_type": "markdown",
      "metadata": {
        "id": "view-in-github",
        "colab_type": "text"
      },
      "source": [
        "<a href=\"https://colab.research.google.com/github/Andreluizfc/AI-study/blob/master/books/deep-learning-with-python/3_6_classifying_newswires.ipynb\" target=\"_parent\"><img src=\"https://colab.research.google.com/assets/colab-badge.svg\" alt=\"Open In Colab\"/></a>"
      ]
    },
    {
      "cell_type": "code",
      "metadata": {
        "id": "CuAwHOUwaoHT",
        "colab_type": "code",
        "outputId": "59a73c87-a4b8-4a72-abc2-ba60abb25545",
        "colab": {
          "base_uri": "https://localhost:8080/",
          "height": 54
        }
      },
      "source": [
        "import keras\n",
        "keras.__version__"
      ],
      "execution_count": 0,
      "outputs": [
        {
          "output_type": "stream",
          "text": [
            "Using TensorFlow backend.\n"
          ],
          "name": "stderr"
        },
        {
          "output_type": "execute_result",
          "data": {
            "text/plain": [
              "'2.3.1'"
            ]
          },
          "metadata": {
            "tags": []
          },
          "execution_count": 1
        }
      ]
    },
    {
      "cell_type": "markdown",
      "metadata": {
        "id": "9hrNym80aoHY",
        "colab_type": "text"
      },
      "source": [
        "# Classifying newswires: a multi-class classification example\n",
        "\n",
        "This notebook contains the code samples found in Chapter 3, Section 5 of [Deep Learning with Python](https://www.manning.com/books/deep-learning-with-python?a_aid=keras&a_bid=76564dff). Note that the original text features far more content, in particular further explanations and figures: in this notebook, you will only find source code and related comments.\n",
        "\n",
        "----\n",
        "\n",
        "In the previous section we saw how to classify vector inputs into two mutually exclusive classes using a densely-connected neural network. \n",
        "But what happens when you have more than two classes? \n",
        "\n",
        "In this section, we will build a network to classify Reuters newswires into 46 different mutually-exclusive topics. Since we have many \n",
        "classes, this problem is an instance of \"multi-class classification\", and since each data point should be classified into only one \n",
        "category, the problem is more specifically an instance of \"single-label, multi-class classification\". If each data point could have \n",
        "belonged to multiple categories (in our case, topics) then we would be facing a \"multi-label, multi-class classification\" problem."
      ]
    },
    {
      "cell_type": "markdown",
      "metadata": {
        "id": "OTpHxZtgaoHZ",
        "colab_type": "text"
      },
      "source": [
        "## The Reuters dataset\n",
        "\n",
        "\n",
        "We will be working with the _Reuters dataset_, a set of short newswires and their topics, published by Reuters in 1986. It's a very simple, \n",
        "widely used toy dataset for text classification. There are 46 different topics; some topics are more represented than others, but each \n",
        "topic has at least 10 examples in the training set.\n",
        "\n",
        "Like IMDB and MNIST, the Reuters dataset comes packaged as part of Keras. Let's take a look right away:"
      ]
    },
    {
      "cell_type": "code",
      "metadata": {
        "id": "O-ckSdeaaoHZ",
        "colab_type": "code",
        "outputId": "fc033590-66c8-4860-e4b2-8772fe703595",
        "colab": {
          "base_uri": "https://localhost:8080/",
          "height": 54
        }
      },
      "source": [
        "from keras.datasets import reuters\n",
        "\n",
        "(train_data, train_labels), (test_data, test_labels) = reuters.load_data(num_words=10000)"
      ],
      "execution_count": 0,
      "outputs": [
        {
          "output_type": "stream",
          "text": [
            "Downloading data from https://s3.amazonaws.com/text-datasets/reuters.npz\n",
            "2113536/2110848 [==============================] - 1s 1us/step\n"
          ],
          "name": "stdout"
        }
      ]
    },
    {
      "cell_type": "markdown",
      "metadata": {
        "id": "1cZUVMTAaoHd",
        "colab_type": "text"
      },
      "source": [
        "\n",
        "Like with the IMDB dataset, the argument `num_words=10000` restricts the data to the 10,000 most frequently occurring words found in the \n",
        "data.\n",
        "\n",
        "We have 8,982 training examples and 2,246 test examples:"
      ]
    },
    {
      "cell_type": "code",
      "metadata": {
        "id": "5DZYe1s-aoHd",
        "colab_type": "code",
        "outputId": "7167c564-1326-48a5-c4a6-252db15e9e58",
        "colab": {}
      },
      "source": [
        "len(train_data)"
      ],
      "execution_count": 0,
      "outputs": [
        {
          "output_type": "execute_result",
          "data": {
            "text/plain": [
              "8982"
            ]
          },
          "metadata": {
            "tags": []
          },
          "execution_count": 3
        }
      ]
    },
    {
      "cell_type": "code",
      "metadata": {
        "id": "HYaqRqyPaoHh",
        "colab_type": "code",
        "outputId": "111f996e-6787-49b4-f7cf-11bfa5f9e910",
        "colab": {}
      },
      "source": [
        "len(test_data)"
      ],
      "execution_count": 0,
      "outputs": [
        {
          "output_type": "execute_result",
          "data": {
            "text/plain": [
              "2246"
            ]
          },
          "metadata": {
            "tags": []
          },
          "execution_count": 4
        }
      ]
    },
    {
      "cell_type": "markdown",
      "metadata": {
        "id": "J7lq0CZUaoHk",
        "colab_type": "text"
      },
      "source": [
        "As with the IMDB reviews, each example is a list of integers (word indices):"
      ]
    },
    {
      "cell_type": "code",
      "metadata": {
        "id": "N4E5hpbhaoHk",
        "colab_type": "code",
        "outputId": "65ec09d3-5889-40aa-d17f-66d51a7d840e",
        "colab": {
          "base_uri": "https://localhost:8080/",
          "height": 581
        }
      },
      "source": [
        "train_data[10]"
      ],
      "execution_count": 0,
      "outputs": [
        {
          "output_type": "execute_result",
          "data": {
            "text/plain": [
              "[1,\n",
              " 245,\n",
              " 273,\n",
              " 207,\n",
              " 156,\n",
              " 53,\n",
              " 74,\n",
              " 160,\n",
              " 26,\n",
              " 14,\n",
              " 46,\n",
              " 296,\n",
              " 26,\n",
              " 39,\n",
              " 74,\n",
              " 2979,\n",
              " 3554,\n",
              " 14,\n",
              " 46,\n",
              " 4689,\n",
              " 4329,\n",
              " 86,\n",
              " 61,\n",
              " 3499,\n",
              " 4795,\n",
              " 14,\n",
              " 61,\n",
              " 451,\n",
              " 4329,\n",
              " 17,\n",
              " 12]"
            ]
          },
          "metadata": {
            "tags": []
          },
          "execution_count": 3
        }
      ]
    },
    {
      "cell_type": "markdown",
      "metadata": {
        "id": "DbHIMl7baoHn",
        "colab_type": "text"
      },
      "source": [
        "Here's how you can decode it back to words, in case you are curious:"
      ]
    },
    {
      "cell_type": "code",
      "metadata": {
        "id": "jWDLiUYjaoHo",
        "colab_type": "code",
        "colab": {}
      },
      "source": [
        "word_index = reuters.get_word_index()\n",
        "reverse_word_index = dict([(value, key) for (key, value) in word_index.items()])\n",
        "# Note that our indices were offset by 3\n",
        "# because 0, 1 and 2 are reserved indices for \"padding\", \"start of sequence\", and \"unknown\".\n",
        "decoded_newswire = ' '.join([reverse_word_index.get(i - 3, '?') for i in train_data[0]])"
      ],
      "execution_count": 0,
      "outputs": []
    },
    {
      "cell_type": "code",
      "metadata": {
        "id": "096UhlyzaoHs",
        "colab_type": "code",
        "outputId": "8e5da24d-e076-4210-960a-ba908f71ecdf",
        "colab": {}
      },
      "source": [
        "decoded_newswire"
      ],
      "execution_count": 0,
      "outputs": [
        {
          "output_type": "execute_result",
          "data": {
            "text/plain": [
              "'? ? ? said as a result of its december acquisition of space co it expects earnings per share in 1987 of 1 15 to 1 30 dlrs per share up from 70 cts in 1986 the company said pretax net should rise to nine to 10 mln dlrs from six mln dlrs in 1986 and rental operation revenues to 19 to 22 mln dlrs from 12 5 mln dlrs it said cash flow per share this year should be 2 50 to three dlrs reuter 3'"
            ]
          },
          "metadata": {
            "tags": []
          },
          "execution_count": 7
        }
      ]
    },
    {
      "cell_type": "markdown",
      "metadata": {
        "id": "ImfDQ1xqaoHv",
        "colab_type": "text"
      },
      "source": [
        "The label associated with an example is an integer between 0 and 45: a topic index."
      ]
    },
    {
      "cell_type": "code",
      "metadata": {
        "id": "aJEQ81u1aoHv",
        "colab_type": "code",
        "outputId": "8444f0b9-7a45-4f9e-a1e4-997706152139",
        "colab": {
          "base_uri": "https://localhost:8080/",
          "height": 35
        }
      },
      "source": [
        "train_labels[10]"
      ],
      "execution_count": 0,
      "outputs": [
        {
          "output_type": "execute_result",
          "data": {
            "text/plain": [
              "3"
            ]
          },
          "metadata": {
            "tags": []
          },
          "execution_count": 4
        }
      ]
    },
    {
      "cell_type": "markdown",
      "metadata": {
        "id": "zs34lNQ-aoHy",
        "colab_type": "text"
      },
      "source": [
        "## Preparing the data\n",
        "\n",
        "We can vectorize the data with the exact same code as in our previous example:"
      ]
    },
    {
      "cell_type": "code",
      "metadata": {
        "id": "mw6vcpHIaoHy",
        "colab_type": "code",
        "colab": {}
      },
      "source": [
        "import numpy as np\n",
        "\n",
        "def vectorize_sequences(sequences, dimension=10000):\n",
        "    results = np.zeros((len(sequences), dimension))\n",
        "    for i, sequence in enumerate(sequences):\n",
        "        results[i, sequence] = 1.\n",
        "    return results\n",
        "\n",
        "# Our vectorized training data\n",
        "x_train = vectorize_sequences(train_data)\n",
        "# Our vectorized test data\n",
        "x_test = vectorize_sequences(test_data)"
      ],
      "execution_count": 0,
      "outputs": []
    },
    {
      "cell_type": "markdown",
      "metadata": {
        "id": "FBiGUQcaaoH1",
        "colab_type": "text"
      },
      "source": [
        "\n",
        "To vectorize the labels, there are two possibilities: we could just cast the label list as an integer tensor, or we could use a \"one-hot\" \n",
        "encoding. One-hot encoding is a widely used format for categorical data, also called \"categorical encoding\". \n",
        "For a more detailed explanation of one-hot encoding, you can refer to Chapter 6, Section 1. \n",
        "In our case, one-hot encoding of our labels consists in embedding each label as an all-zero vector with a 1 in the place of the label index, e.g.:"
      ]
    },
    {
      "cell_type": "code",
      "metadata": {
        "id": "sbqxC-GnaoH2",
        "colab_type": "code",
        "colab": {}
      },
      "source": [
        "def to_one_hot(labels, dimension=46):\n",
        "    results = np.zeros((len(labels), dimension))\n",
        "    for i, label in enumerate(labels):\n",
        "        results[i, label] = 1.\n",
        "    return results\n",
        "\n",
        "# Our vectorized training labels\n",
        "one_hot_train_labels = to_one_hot(train_labels)\n",
        "# Our vectorized test labels\n",
        "one_hot_test_labels = to_one_hot(test_labels)"
      ],
      "execution_count": 0,
      "outputs": []
    },
    {
      "cell_type": "markdown",
      "metadata": {
        "id": "-YsEjmhmaoH5",
        "colab_type": "text"
      },
      "source": [
        "Note that there is a built-in way to do this in Keras, which you have already seen in action in our MNIST example:"
      ]
    },
    {
      "cell_type": "code",
      "metadata": {
        "id": "bLvCxdSdbYGz",
        "colab_type": "code",
        "outputId": "b114ba04-ef32-421a-bf14-170ac13b5daf",
        "colab": {
          "base_uri": "https://localhost:8080/",
          "height": 72
        }
      },
      "source": [
        "one_hot_train_labels[10]"
      ],
      "execution_count": 0,
      "outputs": [
        {
          "output_type": "execute_result",
          "data": {
            "text/plain": [
              "array([0., 0., 0., 1., 0., 0., 0., 0., 0., 0., 0., 0., 0., 0., 0., 0., 0.,\n",
              "       0., 0., 0., 0., 0., 0., 0., 0., 0., 0., 0., 0., 0., 0., 0., 0., 0.,\n",
              "       0., 0., 0., 0., 0., 0., 0., 0., 0., 0., 0., 0.])"
            ]
          },
          "metadata": {
            "tags": []
          },
          "execution_count": 18
        }
      ]
    },
    {
      "cell_type": "code",
      "metadata": {
        "id": "kv9bh9pbaoH6",
        "colab_type": "code",
        "colab": {}
      },
      "source": [
        "from keras.utils.np_utils import to_categorical\n",
        "\n",
        "one_hot_train_labels = to_categorical(train_labels)\n",
        "one_hot_test_labels = to_categorical(test_labels)"
      ],
      "execution_count": 0,
      "outputs": []
    },
    {
      "cell_type": "code",
      "metadata": {
        "id": "MVNtUaSFcRHL",
        "colab_type": "code",
        "outputId": "337a2db2-46e2-4987-e5c7-0ee9204804cb",
        "colab": {
          "base_uri": "https://localhost:8080/",
          "height": 72
        }
      },
      "source": [
        "one_hot_train_labels[10]"
      ],
      "execution_count": 0,
      "outputs": [
        {
          "output_type": "execute_result",
          "data": {
            "text/plain": [
              "array([0., 0., 0., 1., 0., 0., 0., 0., 0., 0., 0., 0., 0., 0., 0., 0., 0.,\n",
              "       0., 0., 0., 0., 0., 0., 0., 0., 0., 0., 0., 0., 0., 0., 0., 0., 0.,\n",
              "       0., 0., 0., 0., 0., 0., 0., 0., 0., 0., 0., 0.], dtype=float32)"
            ]
          },
          "metadata": {
            "tags": []
          },
          "execution_count": 20
        }
      ]
    },
    {
      "cell_type": "markdown",
      "metadata": {
        "id": "ZQ8ZfIqfaoH-",
        "colab_type": "text"
      },
      "source": [
        "## Building our network\n",
        "\n",
        "\n",
        "This topic classification problem looks very similar to our previous movie review classification problem: in both cases, we are trying to \n",
        "classify short snippets of text. There is however a new constraint here: the number of output classes has gone from 2 to 46, i.e. the \n",
        "dimensionality of the output space is much larger. \n",
        "\n",
        "In a stack of `Dense` layers like what we were using, each layer can only access information present in the output of the previous layer. \n",
        "If one layer drops some information relevant to the classification problem, this information can never be recovered by later layers: each \n",
        "layer can potentially become an \"information bottleneck\". In our previous example, we were using 16-dimensional intermediate layers, but a \n",
        "16-dimensional space may be too limited to learn to separate 46 different classes: such small layers may act as information bottlenecks, \n",
        "permanently dropping relevant information.\n",
        "\n",
        "For this reason we will use larger layers. Let's go with 64 units:"
      ]
    },
    {
      "cell_type": "code",
      "metadata": {
        "id": "CIwbbbaMaoH-",
        "colab_type": "code",
        "colab": {}
      },
      "source": [
        "from keras import models\n",
        "from keras import layers\n",
        "\n",
        "model = models.Sequential()\n",
        "model.add(layers.Dense(64, activation='relu', input_shape=(10000,)))\n",
        "model.add(layers.Dense(64, activation='relu'))\n",
        "model.add(layers.Dense(46, activation='softmax'))"
      ],
      "execution_count": 0,
      "outputs": []
    },
    {
      "cell_type": "markdown",
      "metadata": {
        "id": "IHjLebDZaoIB",
        "colab_type": "text"
      },
      "source": [
        "\n",
        "There are two other things you should note about this architecture:\n",
        "\n",
        "* We are ending the network with a `Dense` layer of size 46. This means that for each input sample, our network will output a \n",
        "46-dimensional vector. Each entry in this vector (each dimension) will encode a different output class.\n",
        "* The last layer uses a `softmax` activation. You have already seen this pattern in the MNIST example. It means that the network will \n",
        "output a _probability distribution_ over the 46 different output classes, i.e. for every input sample, the network will produce a \n",
        "46-dimensional output vector where `output[i]` is the probability that the sample belongs to class `i`. The 46 scores will sum to 1.\n",
        "\n",
        "The best loss function to use in this case is `categorical_crossentropy`. It measures the distance between two probability distributions: \n",
        "in our case, between the probability distribution output by our network, and the true distribution of the labels. By minimizing the \n",
        "distance between these two distributions, we train our network to output something as close as possible to the true labels."
      ]
    },
    {
      "cell_type": "code",
      "metadata": {
        "id": "-9WuxgjOaoIC",
        "colab_type": "code",
        "colab": {}
      },
      "source": [
        "model.compile(optimizer='rmsprop',\n",
        "              loss='categorical_crossentropy',\n",
        "              metrics=['accuracy'])"
      ],
      "execution_count": 0,
      "outputs": []
    },
    {
      "cell_type": "markdown",
      "metadata": {
        "id": "S7nhvZwtaoIF",
        "colab_type": "text"
      },
      "source": [
        "## Validating our approach\n",
        "\n",
        "Let's set apart 1,000 samples in our training data to use as a validation set:"
      ]
    },
    {
      "cell_type": "code",
      "metadata": {
        "id": "887WFpTZaoIF",
        "colab_type": "code",
        "colab": {}
      },
      "source": [
        "x_val = x_train[:1000]\n",
        "partial_x_train = x_train[1000:]\n",
        "\n",
        "y_val = one_hot_train_labels[:1000]\n",
        "partial_y_train = one_hot_train_labels[1000:]"
      ],
      "execution_count": 0,
      "outputs": []
    },
    {
      "cell_type": "markdown",
      "metadata": {
        "id": "5Q4IQ7eZaoII",
        "colab_type": "text"
      },
      "source": [
        "Now let's train our network for 20 epochs:"
      ]
    },
    {
      "cell_type": "code",
      "metadata": {
        "id": "kZsh1TytaoII",
        "colab_type": "code",
        "outputId": "9e49193e-8357-433f-d159-815f68890f43",
        "colab": {
          "base_uri": "https://localhost:8080/",
          "height": 763
        }
      },
      "source": [
        "history = model.fit(partial_x_train,\n",
        "                    partial_y_train,\n",
        "                    epochs=20,\n",
        "                    batch_size=512,\n",
        "                    validation_data=(x_val, y_val))"
      ],
      "execution_count": 0,
      "outputs": [
        {
          "output_type": "stream",
          "text": [
            "Train on 7982 samples, validate on 1000 samples\n",
            "Epoch 1/20\n",
            "7982/7982 [==============================] - 1s 147us/step - loss: 2.8113 - accuracy: 0.5560 - val_loss: 1.8762 - val_accuracy: 0.6520\n",
            "Epoch 2/20\n",
            "7982/7982 [==============================] - 1s 109us/step - loss: 1.4885 - accuracy: 0.7100 - val_loss: 1.3551 - val_accuracy: 0.6990\n",
            "Epoch 3/20\n",
            "7982/7982 [==============================] - 1s 113us/step - loss: 1.0777 - accuracy: 0.7697 - val_loss: 1.1431 - val_accuracy: 0.7600\n",
            "Epoch 4/20\n",
            "7982/7982 [==============================] - 1s 115us/step - loss: 0.8468 - accuracy: 0.8157 - val_loss: 1.0392 - val_accuracy: 0.7740\n",
            "Epoch 5/20\n",
            "7982/7982 [==============================] - 1s 115us/step - loss: 0.6781 - accuracy: 0.8562 - val_loss: 0.9836 - val_accuracy: 0.7910\n",
            "Epoch 6/20\n",
            "7982/7982 [==============================] - 1s 115us/step - loss: 0.5471 - accuracy: 0.8881 - val_loss: 0.9255 - val_accuracy: 0.8040\n",
            "Epoch 7/20\n",
            "7982/7982 [==============================] - 1s 118us/step - loss: 0.4408 - accuracy: 0.9107 - val_loss: 0.9129 - val_accuracy: 0.8010\n",
            "Epoch 8/20\n",
            "7982/7982 [==============================] - 1s 120us/step - loss: 0.3621 - accuracy: 0.9257 - val_loss: 0.8865 - val_accuracy: 0.8110\n",
            "Epoch 9/20\n",
            "7982/7982 [==============================] - 1s 119us/step - loss: 0.3008 - accuracy: 0.9355 - val_loss: 0.9102 - val_accuracy: 0.8120\n",
            "Epoch 10/20\n",
            "7982/7982 [==============================] - 1s 116us/step - loss: 0.2531 - accuracy: 0.9424 - val_loss: 0.8920 - val_accuracy: 0.8120\n",
            "Epoch 11/20\n",
            "7982/7982 [==============================] - 1s 119us/step - loss: 0.2162 - accuracy: 0.9494 - val_loss: 0.9084 - val_accuracy: 0.8170\n",
            "Epoch 12/20\n",
            "7982/7982 [==============================] - 1s 118us/step - loss: 0.1909 - accuracy: 0.9520 - val_loss: 0.9413 - val_accuracy: 0.8150\n",
            "Epoch 13/20\n",
            "7982/7982 [==============================] - 1s 114us/step - loss: 0.1720 - accuracy: 0.9540 - val_loss: 0.9742 - val_accuracy: 0.8060\n",
            "Epoch 14/20\n",
            "7982/7982 [==============================] - 1s 114us/step - loss: 0.1608 - accuracy: 0.9545 - val_loss: 0.9495 - val_accuracy: 0.8180\n",
            "Epoch 15/20\n",
            "7982/7982 [==============================] - 1s 117us/step - loss: 0.1404 - accuracy: 0.9548 - val_loss: 0.9947 - val_accuracy: 0.8050\n",
            "Epoch 16/20\n",
            "7982/7982 [==============================] - 1s 115us/step - loss: 0.1302 - accuracy: 0.9573 - val_loss: 0.9679 - val_accuracy: 0.8170\n",
            "Epoch 17/20\n",
            "7982/7982 [==============================] - 1s 117us/step - loss: 0.1287 - accuracy: 0.9582 - val_loss: 1.0159 - val_accuracy: 0.8130\n",
            "Epoch 18/20\n",
            "7982/7982 [==============================] - 1s 115us/step - loss: 0.1248 - accuracy: 0.9559 - val_loss: 1.0960 - val_accuracy: 0.7990\n",
            "Epoch 19/20\n",
            "7982/7982 [==============================] - 1s 114us/step - loss: 0.1196 - accuracy: 0.9584 - val_loss: 1.1162 - val_accuracy: 0.7940\n",
            "Epoch 20/20\n",
            "7982/7982 [==============================] - 1s 118us/step - loss: 0.1153 - accuracy: 0.9564 - val_loss: 1.0812 - val_accuracy: 0.8060\n"
          ],
          "name": "stdout"
        }
      ]
    },
    {
      "cell_type": "markdown",
      "metadata": {
        "id": "2icy0AY7aoIL",
        "colab_type": "text"
      },
      "source": [
        "Let's display its loss and accuracy curves:"
      ]
    },
    {
      "cell_type": "code",
      "metadata": {
        "id": "J0Nnzx1naoIM",
        "colab_type": "code",
        "outputId": "d6760fdd-a1ba-410a-de77-ba0bcbc9ec8a",
        "colab": {
          "base_uri": "https://localhost:8080/",
          "height": 295
        }
      },
      "source": [
        "import matplotlib.pyplot as plt\n",
        "\n",
        "loss = history.history['loss']\n",
        "val_loss = history.history['val_loss']\n",
        "\n",
        "epochs = range(1, len(loss) + 1)\n",
        "\n",
        "plt.plot(epochs, loss, 'bo', label='Training loss')\n",
        "plt.plot(epochs, val_loss, 'b', label='Validation loss')\n",
        "plt.title('Training and validation loss')\n",
        "plt.xlabel('Epochs')\n",
        "plt.ylabel('Loss')\n",
        "plt.legend()\n",
        "\n",
        "plt.show()"
      ],
      "execution_count": 0,
      "outputs": [
        {
          "output_type": "display_data",
          "data": {
            "image/png": "[encoded data removed]",
            "text/plain": [
              "<Figure size 432x288 with 1 Axes>"
            ]
          },
          "metadata": {
            "tags": [],
            "needs_background": "light"
          }
        }
      ]
    },
    {
      "cell_type": "code",
      "metadata": {
        "id": "7RQWVcSFaoIO",
        "colab_type": "code",
        "outputId": "9598a7f2-7e64-4766-e3f4-1e3eaae8d218",
        "colab": {
          "base_uri": "https://localhost:8080/",
          "height": 295
        }
      },
      "source": [
        "plt.clf()   # clear figure\n",
        "\n",
        "acc = history.history['accuracy']\n",
        "val_acc = history.history['val_accuracy']\n",
        "\n",
        "plt.plot(epochs, acc, 'bo', label='Training acc')\n",
        "plt.plot(epochs, val_acc, 'b', label='Validation acc')\n",
        "plt.title('Training and validation accuracy')\n",
        "plt.xlabel('Epochs')\n",
        "plt.ylabel('Loss')\n",
        "plt.legend()\n",
        "\n",
        "plt.show()"
      ],
      "execution_count": 0,
      "outputs": [
        {
          "output_type": "display_data",
          "data": {
            "image/png": "[encoded data removed]",
            "text/plain": [
              "<Figure size 432x288 with 1 Axes>"
            ]
          },
          "metadata": {
            "tags": [],
            "needs_background": "light"
          }
        }
      ]
    },
    {
      "cell_type": "code",
      "metadata": {
        "id": "D_4ggVCIdC05",
        "colab_type": "code",
        "outputId": "02cd041f-aec4-4711-99cd-f23bbaa951fc",
        "colab": {
          "base_uri": "https://localhost:8080/",
          "height": 35
        }
      },
      "source": [
        "results = model.evaluate(x_test, one_hot_test_labels)"
      ],
      "execution_count": 0,
      "outputs": [
        {
          "output_type": "stream",
          "text": [
            "2246/2246 [==============================] - 0s 83us/step\n"
          ],
          "name": "stdout"
        }
      ]
    },
    {
      "cell_type": "code",
      "metadata": {
        "id": "7DMY67XsdM9Z",
        "colab_type": "code",
        "outputId": "f5b0ef24-1ef4-4b89-a26f-a426d1b6ad00",
        "colab": {
          "base_uri": "https://localhost:8080/",
          "height": 35
        }
      },
      "source": [
        "results"
      ],
      "execution_count": 0,
      "outputs": [
        {
          "output_type": "execute_result",
          "data": {
            "text/plain": [
              "[0.9850948867475148, 0.784060537815094]"
            ]
          },
          "metadata": {
            "tags": []
          },
          "execution_count": 32
        }
      ]
    },
    {
      "cell_type": "markdown",
      "metadata": {
        "id": "6FX35pZNaoIR",
        "colab_type": "text"
      },
      "source": [
        "It seems that the network starts overfitting after 8 epochs. Let's train a new network from scratch for 8 epochs, then let's evaluate it on \n",
        "the test set:"
      ]
    },
    {
      "cell_type": "code",
      "metadata": {
        "id": "5zeE1oHOaoIR",
        "colab_type": "code",
        "outputId": "a944fde4-9f1f-4b94-c50f-6be14789a7f8",
        "colab": {
          "base_uri": "https://localhost:8080/",
          "height": 345
        }
      },
      "source": [
        "model = models.Sequential()\n",
        "model.add(layers.Dense(64, activation='relu', input_shape=(10000,)))\n",
        "model.add(layers.Dense(64, activation='relu'))\n",
        "model.add(layers.Dense(46, activation='softmax'))\n",
        "\n",
        "model.compile(optimizer='rmsprop',\n",
        "              loss='categorical_crossentropy',\n",
        "              metrics=['accuracy'])\n",
        "model.fit(partial_x_train,\n",
        "          partial_y_train,\n",
        "          epochs=8,\n",
        "          batch_size=512,\n",
        "          validation_data=(x_val, y_val))\n",
        "results = model.evaluate(x_test, one_hot_test_labels)"
      ],
      "execution_count": 0,
      "outputs": [
        {
          "output_type": "stream",
          "text": [
            "Train on 7982 samples, validate on 1000 samples\n",
            "Epoch 1/8\n",
            "7982/7982 [==============================] - 1s 134us/step - loss: 2.6870 - accuracy: 0.5018 - val_loss: 1.8243 - val_accuracy: 0.6200\n",
            "Epoch 2/8\n",
            "7982/7982 [==============================] - 1s 114us/step - loss: 1.5064 - accuracy: 0.6973 - val_loss: 1.3671 - val_accuracy: 0.7030\n",
            "Epoch 3/8\n",
            "7982/7982 [==============================] - 1s 114us/step - loss: 1.1209 - accuracy: 0.7613 - val_loss: 1.1838 - val_accuracy: 0.7400\n",
            "Epoch 4/8\n",
            "7982/7982 [==============================] - 1s 111us/step - loss: 0.8870 - accuracy: 0.8106 - val_loss: 1.0788 - val_accuracy: 0.7800\n",
            "Epoch 5/8\n",
            "7982/7982 [==============================] - 1s 109us/step - loss: 0.7153 - accuracy: 0.8499 - val_loss: 1.0050 - val_accuracy: 0.8070\n",
            "Epoch 6/8\n",
            "7982/7982 [==============================] - 1s 109us/step - loss: 0.5730 - accuracy: 0.8810 - val_loss: 0.9785 - val_accuracy: 0.7940\n",
            "Epoch 7/8\n",
            "7982/7982 [==============================] - 1s 107us/step - loss: 0.4649 - accuracy: 0.9054 - val_loss: 0.9183 - val_accuracy: 0.8150\n",
            "Epoch 8/8\n",
            "7982/7982 [==============================] - 1s 110us/step - loss: 0.3754 - accuracy: 0.9222 - val_loss: 0.9382 - val_accuracy: 0.8060\n",
            "2246/2246 [==============================] - 0s 80us/step\n"
          ],
          "name": "stdout"
        }
      ]
    },
    {
      "cell_type": "code",
      "metadata": {
        "id": "Av4U4P1qaoIT",
        "colab_type": "code",
        "outputId": "5ebafbdb-9fb3-41ee-a9bc-b3f9ecaa00d8",
        "colab": {
          "base_uri": "https://localhost:8080/",
          "height": 35
        }
      },
      "source": [
        "results"
      ],
      "execution_count": 0,
      "outputs": [
        {
          "output_type": "execute_result",
          "data": {
            "text/plain": [
              "[0.9955839830536133, 0.7813891172409058]"
            ]
          },
          "metadata": {
            "tags": []
          },
          "execution_count": 35
        }
      ]
    },
    {
      "cell_type": "markdown",
      "metadata": {
        "id": "TbN9oaV_aoIW",
        "colab_type": "text"
      },
      "source": [
        "\n",
        "Our approach reaches an accuracy of ~78%. With a balanced binary classification problem, the accuracy reached by a purely random classifier \n",
        "would be 50%, but in our case it is closer to 19%, so our results seem pretty good, at least when compared to a random baseline:"
      ]
    },
    {
      "cell_type": "code",
      "metadata": {
        "id": "An0mMqXSaoIW",
        "colab_type": "code",
        "outputId": "cd5ade37-946c-40b7-a663-62dc97518436",
        "colab": {
          "base_uri": "https://localhost:8080/",
          "height": 35
        }
      },
      "source": [
        "import copy\n",
        "\n",
        "test_labels_copy = copy.copy(test_labels)\n",
        "np.random.shuffle(test_labels_copy)\n",
        "float(np.sum(np.array(test_labels) == np.array(test_labels_copy))) / len(test_labels)"
      ],
      "execution_count": 0,
      "outputs": [
        {
          "output_type": "execute_result",
          "data": {
            "text/plain": [
              "0.18699910952804988"
            ]
          },
          "metadata": {
            "tags": []
          },
          "execution_count": 36
        }
      ]
    },
    {
      "cell_type": "markdown",
      "metadata": {
        "id": "JRoJ1NS5aoIZ",
        "colab_type": "text"
      },
      "source": [
        "## Generating predictions on new data\n",
        "\n",
        "We can verify that the `predict` method of our model instance returns a probability distribution over all 46 topics. Let's generate topic \n",
        "predictions for all of the test data:"
      ]
    },
    {
      "cell_type": "code",
      "metadata": {
        "id": "lKVVVwFzaoIZ",
        "colab_type": "code",
        "colab": {}
      },
      "source": [
        "predictions = model.predict(x_test)"
      ],
      "execution_count": 0,
      "outputs": []
    },
    {
      "cell_type": "markdown",
      "metadata": {
        "id": "kvdIsYcvaoId",
        "colab_type": "text"
      },
      "source": [
        "Each entry in `predictions` is a vector of length 46:"
      ]
    },
    {
      "cell_type": "code",
      "metadata": {
        "id": "Z2KO-UvyaoId",
        "colab_type": "code",
        "outputId": "db83e580-014c-4b3c-f804-ec1647e22ef1",
        "colab": {
          "base_uri": "https://localhost:8080/",
          "height": 35
        }
      },
      "source": [
        "predictions[0].shape"
      ],
      "execution_count": 0,
      "outputs": [
        {
          "output_type": "execute_result",
          "data": {
            "text/plain": [
              "(46,)"
            ]
          },
          "metadata": {
            "tags": []
          },
          "execution_count": 38
        }
      ]
    },
    {
      "cell_type": "markdown",
      "metadata": {
        "id": "cbUJmoWTaoIf",
        "colab_type": "text"
      },
      "source": [
        "The coefficients in this vector sum to 1:"
      ]
    },
    {
      "cell_type": "code",
      "metadata": {
        "id": "8PJZ6GosaoIg",
        "colab_type": "code",
        "outputId": "1e7b3439-5442-4455-bc22-b50bdde63287",
        "colab": {
          "base_uri": "https://localhost:8080/",
          "height": 35
        }
      },
      "source": [
        "np.sum(predictions[0])"
      ],
      "execution_count": 0,
      "outputs": [
        {
          "output_type": "execute_result",
          "data": {
            "text/plain": [
              "0.9999999"
            ]
          },
          "metadata": {
            "tags": []
          },
          "execution_count": 39
        }
      ]
    },
    {
      "cell_type": "markdown",
      "metadata": {
        "id": "F9cU3HdJaoIi",
        "colab_type": "text"
      },
      "source": [
        "The largest entry is the predicted class, i.e. the class with the highest probability:"
      ]
    },
    {
      "cell_type": "code",
      "metadata": {
        "id": "KCAxN-IbaoIj",
        "colab_type": "code",
        "outputId": "fd445266-7096-4953-d1c1-4e49bc7e2aad",
        "colab": {
          "base_uri": "https://localhost:8080/",
          "height": 35
        }
      },
      "source": [
        "np.argmax(predictions[0])"
      ],
      "execution_count": 0,
      "outputs": [
        {
          "output_type": "execute_result",
          "data": {
            "text/plain": [
              "3"
            ]
          },
          "metadata": {
            "tags": []
          },
          "execution_count": 40
        }
      ]
    },
    {
      "cell_type": "markdown",
      "metadata": {
        "id": "Nlyxg-AmaoIl",
        "colab_type": "text"
      },
      "source": [
        "## A different way to handle the labels and the loss\n",
        "\n",
        "We mentioned earlier that another way to encode the labels would be to cast them as an integer tensor, like such:"
      ]
    },
    {
      "cell_type": "code",
      "metadata": {
        "id": "4bUn3Hy_aoIl",
        "colab_type": "code",
        "colab": {}
      },
      "source": [
        "y_train = np.array(train_labels)\n",
        "y_test = np.array(test_labels)"
      ],
      "execution_count": 0,
      "outputs": []
    },
    {
      "cell_type": "markdown",
      "metadata": {
        "id": "UxHXIIeQaoIo",
        "colab_type": "text"
      },
      "source": [
        "\n",
        "The only thing it would change is the choice of the loss function. Our previous loss, `categorical_crossentropy`, expects the labels to \n",
        "follow a categorical encoding. With integer labels, we should use `sparse_categorical_crossentropy`:"
      ]
    },
    {
      "cell_type": "code",
      "metadata": {
        "id": "ZO7LIyv1aoIo",
        "colab_type": "code",
        "colab": {}
      },
      "source": [
        "model.compile(optimizer='rmsprop', loss='sparse_categorical_crossentropy', metrics=['acc'])"
      ],
      "execution_count": 0,
      "outputs": []
    },
    {
      "cell_type": "markdown",
      "metadata": {
        "id": "22u5cOKUaoIr",
        "colab_type": "text"
      },
      "source": [
        "This new loss function is still mathematically the same as `categorical_crossentropy`; it just has a different interface."
      ]
    },
    {
      "cell_type": "markdown",
      "metadata": {
        "id": "J6ZYbKrEaoIt",
        "colab_type": "text"
      },
      "source": [
        "## On the importance of having sufficiently large intermediate layers\n",
        "\n",
        "\n",
        "We mentioned earlier that since our final outputs were 46-dimensional, we should avoid intermediate layers with much less than 46 hidden \n",
        "units. Now let's try to see what happens when we introduce an information bottleneck by having intermediate layers significantly less than \n",
        "46-dimensional, e.g. 4-dimensional."
      ]
    },
    {
      "cell_type": "code",
      "metadata": {
        "id": "4XfzIU2vaoIt",
        "colab_type": "code",
        "outputId": "5ccb3960-9ac2-461b-f00c-12ac74c16ccb",
        "colab": {
          "base_uri": "https://localhost:8080/",
          "height": 781
        }
      },
      "source": [
        "model = models.Sequential()\n",
        "model.add(layers.Dense(64, activation='relu', input_shape=(10000,)))\n",
        "model.add(layers.Dense(4, activation='relu'))\n",
        "model.add(layers.Dense(46, activation='softmax'))\n",
        "\n",
        "model.compile(optimizer='rmsprop',\n",
        "              loss='categorical_crossentropy',\n",
        "              metrics=['accuracy'])\n",
        "model.fit(partial_x_train,\n",
        "          partial_y_train,\n",
        "          epochs=20,\n",
        "          batch_size=128,\n",
        "          validation_data=(x_val, y_val))"
      ],
      "execution_count": 0,
      "outputs": [
        {
          "output_type": "stream",
          "text": [
            "Train on 7982 samples, validate on 1000 samples\n",
            "Epoch 1/20\n",
            "7982/7982 [==============================] - 1s 146us/step - loss: 3.6550 - accuracy: 0.1986 - val_loss: 3.4513 - val_accuracy: 0.3200\n",
            "Epoch 2/20\n",
            "7982/7982 [==============================] - 1s 138us/step - loss: 3.1386 - accuracy: 0.4412 - val_loss: 2.8979 - val_accuracy: 0.3180\n",
            "Epoch 3/20\n",
            "7982/7982 [==============================] - 1s 146us/step - loss: 2.5881 - accuracy: 0.3151 - val_loss: 2.5026 - val_accuracy: 0.3090\n",
            "Epoch 4/20\n",
            "7982/7982 [==============================] - 1s 145us/step - loss: 2.0956 - accuracy: 0.3958 - val_loss: 1.9418 - val_accuracy: 0.6290\n",
            "Epoch 5/20\n",
            "7982/7982 [==============================] - 1s 137us/step - loss: 1.3953 - accuracy: 0.6733 - val_loss: 1.4079 - val_accuracy: 0.6600\n",
            "Epoch 6/20\n",
            "7982/7982 [==============================] - 1s 137us/step - loss: 1.0757 - accuracy: 0.7278 - val_loss: 1.3324 - val_accuracy: 0.6930\n",
            "Epoch 7/20\n",
            "7982/7982 [==============================] - 1s 137us/step - loss: 0.9483 - accuracy: 0.7725 - val_loss: 1.3051 - val_accuracy: 0.7040\n",
            "Epoch 8/20\n",
            "7982/7982 [==============================] - 1s 138us/step - loss: 0.8532 - accuracy: 0.7959 - val_loss: 1.3217 - val_accuracy: 0.7130\n",
            "Epoch 9/20\n",
            "7982/7982 [==============================] - 1s 145us/step - loss: 0.7787 - accuracy: 0.8107 - val_loss: 1.3314 - val_accuracy: 0.7140\n",
            "Epoch 10/20\n",
            "7982/7982 [==============================] - 1s 150us/step - loss: 0.7186 - accuracy: 0.8191 - val_loss: 1.3387 - val_accuracy: 0.7200\n",
            "Epoch 11/20\n",
            "7982/7982 [==============================] - 1s 146us/step - loss: 0.6700 - accuracy: 0.8251 - val_loss: 1.3660 - val_accuracy: 0.7180\n",
            "Epoch 12/20\n",
            "7982/7982 [==============================] - 1s 149us/step - loss: 0.6276 - accuracy: 0.8307 - val_loss: 1.3957 - val_accuracy: 0.7190\n",
            "Epoch 13/20\n",
            "7982/7982 [==============================] - 1s 145us/step - loss: 0.5914 - accuracy: 0.8346 - val_loss: 1.4081 - val_accuracy: 0.7140\n",
            "Epoch 14/20\n",
            "7982/7982 [==============================] - 1s 146us/step - loss: 0.5581 - accuracy: 0.8389 - val_loss: 1.4922 - val_accuracy: 0.7190\n",
            "Epoch 15/20\n",
            "7982/7982 [==============================] - 1s 149us/step - loss: 0.5291 - accuracy: 0.8435 - val_loss: 1.5330 - val_accuracy: 0.7090\n",
            "Epoch 16/20\n",
            "7982/7982 [==============================] - 1s 147us/step - loss: 0.5030 - accuracy: 0.8525 - val_loss: 1.5631 - val_accuracy: 0.7180\n",
            "Epoch 17/20\n",
            "7982/7982 [==============================] - 1s 143us/step - loss: 0.4788 - accuracy: 0.8603 - val_loss: 1.5937 - val_accuracy: 0.7150\n",
            "Epoch 18/20\n",
            "7982/7982 [==============================] - 1s 137us/step - loss: 0.4584 - accuracy: 0.8629 - val_loss: 1.6392 - val_accuracy: 0.6990\n",
            "Epoch 19/20\n",
            "7982/7982 [==============================] - 1s 140us/step - loss: 0.4371 - accuracy: 0.8678 - val_loss: 1.7164 - val_accuracy: 0.7130\n",
            "Epoch 20/20\n",
            "7982/7982 [==============================] - 1s 137us/step - loss: 0.4188 - accuracy: 0.8738 - val_loss: 1.7368 - val_accuracy: 0.7090\n"
          ],
          "name": "stdout"
        },
        {
          "output_type": "execute_result",
          "data": {
            "text/plain": [
              "<keras.callbacks.callbacks.History at 0x7f7bf3a566a0>"
            ]
          },
          "metadata": {
            "tags": []
          },
          "execution_count": 43
        }
      ]
    },
    {
      "cell_type": "markdown",
      "metadata": {
        "id": "JzNIYVdbaoIw",
        "colab_type": "text"
      },
      "source": [
        "\n",
        "Our network now seems to peak at ~71% test accuracy, a 8% absolute drop. This drop is mostly due to the fact that we are now trying to \n",
        "compress a lot of information (enough information to recover the separation hyperplanes of 46 classes) into an intermediate space that is \n",
        "too low-dimensional. The network is able to cram _most_ of the necessary information into these 8-dimensional representations, but not all \n",
        "of it."
      ]
    },
    {
      "cell_type": "markdown",
      "metadata": {
        "id": "oSTSabGOaoIw",
        "colab_type": "text"
      },
      "source": [
        "## Further experiments\n",
        "\n",
        "* Try using larger or smaller layers: 32 units, 128 units...\n",
        "* We were using two hidden layers. Now try to use a single hidden layer, or three hidden layers."
      ]
    },
    {
      "cell_type": "markdown",
      "metadata": {
        "id": "PEJZ-pf2aoIx",
        "colab_type": "text"
      },
      "source": [
        "## Wrapping up\n",
        "\n",
        "\n",
        "Here's what you should take away from this example:\n",
        "\n",
        "* If you are trying to classify data points between N classes, your network should end with a `Dense` layer of size N.\n",
        "* In a single-label, multi-class classification problem, your network should end with a `softmax` activation, so that it will output a \n",
        "probability distribution over the N output classes.\n",
        "* _Categorical crossentropy_ is almost always the loss function you should use for such problems. It minimizes the distance between the \n",
        "probability distributions output by the network, and the true distribution of the targets.\n",
        "* There are two ways to handle labels in multi-class classification:\n",
        "    ** Encoding the labels via \"categorical encoding\" (also known as \"one-hot encoding\") and using `categorical_crossentropy` as your loss \n",
        "function.\n",
        "    ** Encoding the labels as integers and using the `sparse_categorical_crossentropy` loss function.\n",
        "* If you need to classify data into a large number of categories, then you should avoid creating information bottlenecks in your network by having \n",
        "intermediate layers that are too small."
      ]
    }
  ]
}