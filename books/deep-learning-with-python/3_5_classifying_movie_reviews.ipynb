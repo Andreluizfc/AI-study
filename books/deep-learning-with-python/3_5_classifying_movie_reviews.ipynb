{
  "nbformat": 4,
  "nbformat_minor": 0,
  "metadata": {
    "kernelspec": {
      "display_name": "Python 3",
      "language": "python",
      "name": "python3"
    },
    "language_info": {
      "codemirror_mode": {
        "name": "ipython",
        "version": 3
      },
      "file_extension": ".py",
      "mimetype": "text/x-python",
      "name": "python",
      "nbconvert_exporter": "python",
      "pygments_lexer": "ipython3",
      "version": "3.5.2"
    },
    "colab": {
      "name": "3.5-classifying-movie-reviews.ipynb",
      "provenance": [],
      "include_colab_link": true
    }
  },
  "cells": [
    {
      "cell_type": "markdown",
      "metadata": {
        "id": "view-in-github",
        "colab_type": "text"
      },
      "source": [
        "<a href=\"https://colab.research.google.com/github/Andreluizfc/AI-study/blob/master/books/deep-learning-with-python/3_5_classifying_movie_reviews.ipynb\" target=\"_parent\"><img src=\"https://colab.research.google.com/assets/colab-badge.svg\" alt=\"Open In Colab\"/></a>"
      ]
    },
    {
      "cell_type": "code",
      "metadata": {
        "id": "N9CHHxeLymgP",
        "colab_type": "code",
        "outputId": "b6d3ccfd-b48f-43ac-cabd-b5cc23e73edb",
        "colab": {
          "base_uri": "https://localhost:8080/",
          "height": 51
        }
      },
      "source": [
        "import keras\n",
        "keras.__version__"
      ],
      "execution_count": 1,
      "outputs": [
        {
          "output_type": "stream",
          "text": [
            "Using TensorFlow backend.\n"
          ],
          "name": "stderr"
        },
        {
          "output_type": "execute_result",
          "data": {
            "text/plain": [
              "'2.3.1'"
            ]
          },
          "metadata": {
            "tags": []
          },
          "execution_count": 1
        }
      ]
    },
    {
      "cell_type": "code",
      "metadata": {
        "id": "47qAg3yQ4Pj5",
        "colab_type": "code",
        "colab": {}
      },
      "source": [
        "import tensorflow as tf"
      ],
      "execution_count": 0,
      "outputs": []
    },
    {
      "cell_type": "code",
      "metadata": {
        "id": "3tsFDIPg0Q77",
        "colab_type": "code",
        "colab": {
          "base_uri": "https://localhost:8080/",
          "height": 34
        },
        "outputId": "60b191b8-7364-4388-d83e-644f51fe8013"
      },
      "source": [
        "keras.backend.backend()"
      ],
      "execution_count": 6,
      "outputs": [
        {
          "output_type": "execute_result",
          "data": {
            "text/plain": [
              "'tensorflow'"
            ]
          },
          "metadata": {
            "tags": []
          },
          "execution_count": 6
        }
      ]
    },
    {
      "cell_type": "markdown",
      "metadata": {
        "id": "DmbxNNxkymgU",
        "colab_type": "text"
      },
      "source": [
        "# Classifying movie reviews: a binary classification example\n",
        "\n",
        "This notebook contains the code samples found in Chapter 3, Section 5 of [Deep Learning with Python](https://www.manning.com/books/deep-learning-with-python?a_aid=keras&a_bid=76564dff). Note that the original text features far more content, in particular further explanations and figures: in this notebook, you will only find source code and related comments.\n",
        "\n",
        "----\n",
        "\n",
        "\n",
        "Two-class classification, or binary classification, may be the most widely applied kind of machine learning problem. In this example, we \n",
        "will learn to classify movie reviews into \"positive\" reviews and \"negative\" reviews, just based on the text content of the reviews."
      ]
    },
    {
      "cell_type": "markdown",
      "metadata": {
        "id": "LbiFoWp0ymgV",
        "colab_type": "text"
      },
      "source": [
        "## The IMDB dataset\n",
        "\n",
        "\n",
        "We'll be working with \"IMDB dataset\", a set of 50,000 highly-polarized reviews from the Internet Movie Database. They are split into 25,000 \n",
        "reviews for training and 25,000 reviews for testing, each set consisting in 50% negative and 50% positive reviews.\n",
        "\n",
        "Why do we have these two separate training and test sets? You should never test a machine learning model on the same data that you used to \n",
        "train it! Just because a model performs well on its training data doesn't mean that it will perform well on data it has never seen, and \n",
        "what you actually care about is your model's performance on new data (since you already know the labels of your training data -- obviously \n",
        "you don't need your model to predict those). For instance, it is possible that your model could end up merely _memorizing_ a mapping between \n",
        "your training samples and their targets -- which would be completely useless for the task of predicting targets for data never seen before. \n",
        "We will go over this point in much more detail in the next chapter.\n",
        "\n",
        "Just like the MNIST dataset, the IMDB dataset comes packaged with Keras. It has already been preprocessed: the reviews (sequences of words) \n",
        "have been turned into sequences of integers, where each integer stands for a specific word in a dictionary.\n",
        "\n",
        "The following code will load the dataset (when you run it for the first time, about 80MB of data will be downloaded to your machine):"
      ]
    },
    {
      "cell_type": "code",
      "metadata": {
        "id": "O1SXKgKWymgW",
        "colab_type": "code",
        "colab": {}
      },
      "source": [
        "from keras.datasets import imdb"
      ],
      "execution_count": 0,
      "outputs": []
    },
    {
      "cell_type": "code",
      "metadata": {
        "id": "EFKCeGQN1DMO",
        "colab_type": "code",
        "colab": {}
      },
      "source": [
        "(train_data, train_labels), (test_data, test_labels) = imdb.load_data(num_words=10000)"
      ],
      "execution_count": 0,
      "outputs": []
    },
    {
      "cell_type": "markdown",
      "metadata": {
        "id": "dsquroaPymgZ",
        "colab_type": "text"
      },
      "source": [
        "\n",
        "The argument `num_words=10000` means that we will only keep the top 10,000 most frequently occurring words in the training data. Rare words \n",
        "will be discarded. This allows us to work with vector data of manageable size.\n",
        "\n",
        "The variables `train_data` and `test_data` are lists of reviews, each review being a list of word indices (encoding a sequence of words). \n",
        "`train_labels` and `test_labels` are lists of 0s and 1s, where 0 stands for \"negative\" and 1 stands for \"positive\":"
      ]
    },
    {
      "cell_type": "code",
      "metadata": {
        "id": "XDj6X-v_ymga",
        "colab_type": "code",
        "outputId": "4adecdee-fe36-4b35-9075-68275308ef16",
        "colab": {
          "base_uri": "https://localhost:8080/",
          "height": 1000
        }
      },
      "source": [
        "train_data[1]"
      ],
      "execution_count": 5,
      "outputs": [
        {
          "output_type": "execute_result",
          "data": {
            "text/plain": [
              "[1,\n",
              " 194,\n",
              " 1153,\n",
              " 194,\n",
              " 8255,\n",
              " 78,\n",
              " 228,\n",
              " 5,\n",
              " 6,\n",
              " 1463,\n",
              " 4369,\n",
              " 5012,\n",
              " 134,\n",
              " 26,\n",
              " 4,\n",
              " 715,\n",
              " 8,\n",
              " 118,\n",
              " 1634,\n",
              " 14,\n",
              " 394,\n",
              " 20,\n",
              " 13,\n",
              " 119,\n",
              " 954,\n",
              " 189,\n",
              " 102,\n",
              " 5,\n",
              " 207,\n",
              " 110,\n",
              " 3103,\n",
              " 21,\n",
              " 14,\n",
              " 69,\n",
              " 188,\n",
              " 8,\n",
              " 30,\n",
              " 23,\n",
              " 7,\n",
              " 4,\n",
              " 249,\n",
              " 126,\n",
              " 93,\n",
              " 4,\n",
              " 114,\n",
              " 9,\n",
              " 2300,\n",
              " 1523,\n",
              " 5,\n",
              " 647,\n",
              " 4,\n",
              " 116,\n",
              " 9,\n",
              " 35,\n",
              " 8163,\n",
              " 4,\n",
              " 229,\n",
              " 9,\n",
              " 340,\n",
              " 1322,\n",
              " 4,\n",
              " 118,\n",
              " 9,\n",
              " 4,\n",
              " 130,\n",
              " 4901,\n",
              " 19,\n",
              " 4,\n",
              " 1002,\n",
              " 5,\n",
              " 89,\n",
              " 29,\n",
              " 952,\n",
              " 46,\n",
              " 37,\n",
              " 4,\n",
              " 455,\n",
              " 9,\n",
              " 45,\n",
              " 43,\n",
              " 38,\n",
              " 1543,\n",
              " 1905,\n",
              " 398,\n",
              " 4,\n",
              " 1649,\n",
              " 26,\n",
              " 6853,\n",
              " 5,\n",
              " 163,\n",
              " 11,\n",
              " 3215,\n",
              " 2,\n",
              " 4,\n",
              " 1153,\n",
              " 9,\n",
              " 194,\n",
              " 775,\n",
              " 7,\n",
              " 8255,\n",
              " 2,\n",
              " 349,\n",
              " 2637,\n",
              " 148,\n",
              " 605,\n",
              " 2,\n",
              " 8003,\n",
              " 15,\n",
              " 123,\n",
              " 125,\n",
              " 68,\n",
              " 2,\n",
              " 6853,\n",
              " 15,\n",
              " 349,\n",
              " 165,\n",
              " 4362,\n",
              " 98,\n",
              " 5,\n",
              " 4,\n",
              " 228,\n",
              " 9,\n",
              " 43,\n",
              " 2,\n",
              " 1157,\n",
              " 15,\n",
              " 299,\n",
              " 120,\n",
              " 5,\n",
              " 120,\n",
              " 174,\n",
              " 11,\n",
              " 220,\n",
              " 175,\n",
              " 136,\n",
              " 50,\n",
              " 9,\n",
              " 4373,\n",
              " 228,\n",
              " 8255,\n",
              " 5,\n",
              " 2,\n",
              " 656,\n",
              " 245,\n",
              " 2350,\n",
              " 5,\n",
              " 4,\n",
              " 9837,\n",
              " 131,\n",
              " 152,\n",
              " 491,\n",
              " 18,\n",
              " 2,\n",
              " 32,\n",
              " 7464,\n",
              " 1212,\n",
              " 14,\n",
              " 9,\n",
              " 6,\n",
              " 371,\n",
              " 78,\n",
              " 22,\n",
              " 625,\n",
              " 64,\n",
              " 1382,\n",
              " 9,\n",
              " 8,\n",
              " 168,\n",
              " 145,\n",
              " 23,\n",
              " 4,\n",
              " 1690,\n",
              " 15,\n",
              " 16,\n",
              " 4,\n",
              " 1355,\n",
              " 5,\n",
              " 28,\n",
              " 6,\n",
              " 52,\n",
              " 154,\n",
              " 462,\n",
              " 33,\n",
              " 89,\n",
              " 78,\n",
              " 285,\n",
              " 16,\n",
              " 145,\n",
              " 95]"
            ]
          },
          "metadata": {
            "tags": []
          },
          "execution_count": 5
        }
      ]
    },
    {
      "cell_type": "code",
      "metadata": {
        "id": "Y8jkyrWrymgd",
        "colab_type": "code",
        "outputId": "5d8b0d59-c0a1-4742-c9f6-f8e6534a8149",
        "colab": {
          "base_uri": "https://localhost:8080/",
          "height": 34
        }
      },
      "source": [
        "train_labels[1]"
      ],
      "execution_count": 6,
      "outputs": [
        {
          "output_type": "execute_result",
          "data": {
            "text/plain": [
              "0"
            ]
          },
          "metadata": {
            "tags": []
          },
          "execution_count": 6
        }
      ]
    },
    {
      "cell_type": "markdown",
      "metadata": {
        "id": "NUzThmclymgg",
        "colab_type": "text"
      },
      "source": [
        "Since we restricted ourselves to the top 10,000 most frequent words, no word index will exceed 10,000:"
      ]
    },
    {
      "cell_type": "code",
      "metadata": {
        "id": "8WR_FdV1ymgh",
        "colab_type": "code",
        "outputId": "3bf687e4-197c-4b89-9c31-449cd56979e3",
        "colab": {
          "base_uri": "https://localhost:8080/",
          "height": 34
        }
      },
      "source": [
        "max([max(sequence) for sequence in train_data])"
      ],
      "execution_count": 7,
      "outputs": [
        {
          "output_type": "execute_result",
          "data": {
            "text/plain": [
              "9999"
            ]
          },
          "metadata": {
            "tags": []
          },
          "execution_count": 7
        }
      ]
    },
    {
      "cell_type": "markdown",
      "metadata": {
        "id": "29KGO8ruymgk",
        "colab_type": "text"
      },
      "source": [
        "For kicks, here's how you can quickly decode one of these reviews back to English words:"
      ]
    },
    {
      "cell_type": "code",
      "metadata": {
        "id": "jLXR-sYJymgl",
        "colab_type": "code",
        "colab": {}
      },
      "source": [
        "# word_index is a dictionary mapping words to an integer index\n",
        "word_index = imdb.get_word_index()\n",
        "# We reverse it, mapping integer indices to words\n",
        "reverse_word_index = dict([(value, key) for (key, value) in word_index.items()])\n",
        "# We decode the review; note that our indices were offset by 3\n",
        "# because 0, 1 and 2 are reserved indices for \"padding\", \"start of sequence\", and \"unknown\".\n",
        "decoded_review = ' '.join([reverse_word_index.get(i - 3, '?') for i in train_data[0]])"
      ],
      "execution_count": 0,
      "outputs": []
    },
    {
      "cell_type": "code",
      "metadata": {
        "id": "xL5Ky9v-ymgs",
        "colab_type": "code",
        "outputId": "fd777298-19c9-4623-c0ae-861667704551",
        "colab": {
          "base_uri": "https://localhost:8080/",
          "height": 54
        }
      },
      "source": [
        "decoded_review"
      ],
      "execution_count": 40,
      "outputs": [
        {
          "output_type": "execute_result",
          "data": {
            "text/plain": [
              "\"? this film was just brilliant casting location scenery story direction everyone's really suited the part they played and you could just imagine being there robert ? is an amazing actor and now the same being director ? father came from the same scottish island as myself so i loved the fact there was a real connection with this film the witty remarks throughout the film were great it was just brilliant so much that i bought the film as soon as it was released for ? and would recommend it to everyone to watch and the fly fishing was amazing really cried at the end it was so sad and you know what they say if you cry at a film it must have been good and this definitely was also ? to the two little boy's that played the ? of norman and paul they were just brilliant children are often left out of the ? list i think because the stars that play them all grown up are such a big profile for the whole film but these children are amazing and should be praised for what they have done don't you think the whole story was so lovely because it was true and was someone's life after all that was shared with us all\""
            ]
          },
          "metadata": {
            "tags": []
          },
          "execution_count": 40
        }
      ]
    },
    {
      "cell_type": "markdown",
      "metadata": {
        "id": "C7wPtUdNymgx",
        "colab_type": "text"
      },
      "source": [
        "## Preparing the data\n",
        "\n",
        "\n",
        "We cannot feed lists of integers into a neural network. We have to turn our lists into tensors. There are two ways we could do that:\n",
        "\n",
        "* We could pad our lists so that they all have the same length, and turn them into an integer tensor of shape `(samples, word_indices)`, \n",
        "then use as first layer in our network a layer capable of handling such integer tensors (the `Embedding` layer, which we will cover in \n",
        "detail later in the book).\n",
        "* We could one-hot-encode our lists to turn them into vectors of 0s and 1s. Concretely, this would mean for instance turning the sequence \n",
        "`[3, 5]` into a 10,000-dimensional vector that would be all-zeros except for indices 3 and 5, which would be ones. Then we could use as \n",
        "first layer in our network a `Dense` layer, capable of handling floating point vector data.\n",
        "\n",
        "We will go with the latter solution. Let's vectorize our data, which we will do manually for maximum clarity:"
      ]
    },
    {
      "cell_type": "code",
      "metadata": {
        "id": "WeiULqaiymgx",
        "colab_type": "code",
        "colab": {}
      },
      "source": [
        "import numpy as np\n",
        "\n",
        "def vectorize_sequences(sequences, dimension=10000):\n",
        "    # Create an all-zero matrix of shape (len(sequences), dimension)\n",
        "    results = np.zeros((len(sequences), dimension))\n",
        "    for i, sequence in enumerate(sequences):\n",
        "        results[i, sequence] = 1.  # set specific indices of results[i] to 1s\n",
        "    return results\n",
        "\n",
        "# Our vectorized training data\n",
        "x_train = vectorize_sequences(train_data)\n",
        "# Our vectorized test data\n",
        "x_test = vectorize_sequences(test_data)"
      ],
      "execution_count": 0,
      "outputs": []
    },
    {
      "cell_type": "code",
      "metadata": {
        "id": "DlfMaqhSFz0A",
        "colab_type": "code",
        "colab": {
          "base_uri": "https://localhost:8080/",
          "height": 102
        },
        "outputId": "87964d5f-3794-4974-e63f-e517650a7877"
      },
      "source": [
        "results = np.zeros((5, 10))\n",
        "sequence = [1, 2, 3, 4, 5]\n",
        "results[0, sequence] = 1.\n",
        "print(results)"
      ],
      "execution_count": 50,
      "outputs": [
        {
          "output_type": "stream",
          "text": [
            "[[0. 1. 1. 1. 1. 1. 0. 0. 0. 0.]\n",
            " [0. 0. 0. 0. 0. 0. 0. 0. 0. 0.]\n",
            " [0. 0. 0. 0. 0. 0. 0. 0. 0. 0.]\n",
            " [0. 0. 0. 0. 0. 0. 0. 0. 0. 0.]\n",
            " [0. 0. 0. 0. 0. 0. 0. 0. 0. 0.]]\n"
          ],
          "name": "stdout"
        }
      ]
    },
    {
      "cell_type": "markdown",
      "metadata": {
        "id": "mhEafbtGymg1",
        "colab_type": "text"
      },
      "source": [
        "Here's what our samples look like now:"
      ]
    },
    {
      "cell_type": "code",
      "metadata": {
        "id": "-hI17-_yymg8",
        "colab_type": "code",
        "outputId": "abebe895-4501-4d1a-9e54-05008f969e6b",
        "colab": {
          "base_uri": "https://localhost:8080/",
          "height": 34
        }
      },
      "source": [
        "x_train[0]"
      ],
      "execution_count": 38,
      "outputs": [
        {
          "output_type": "execute_result",
          "data": {
            "text/plain": [
              "array([0., 1., 1., ..., 0., 0., 0.])"
            ]
          },
          "metadata": {
            "tags": []
          },
          "execution_count": 38
        }
      ]
    },
    {
      "cell_type": "markdown",
      "metadata": {
        "id": "UkVdRcbYymhA",
        "colab_type": "text"
      },
      "source": [
        "We should also vectorize our labels, which is straightforward:"
      ]
    },
    {
      "cell_type": "code",
      "metadata": {
        "id": "XShkGLNFymhB",
        "colab_type": "code",
        "colab": {}
      },
      "source": [
        "# Our vectorized labels\n",
        "y_train = np.asarray(train_labels).astype('float32')\n",
        "y_test = np.asarray(test_labels).astype('float32')"
      ],
      "execution_count": 0,
      "outputs": []
    },
    {
      "cell_type": "markdown",
      "metadata": {
        "id": "EHUI0dP8ymhD",
        "colab_type": "text"
      },
      "source": [
        "Now our data is ready to be fed into a neural network."
      ]
    },
    {
      "cell_type": "markdown",
      "metadata": {
        "id": "0Xe4DSjdymhE",
        "colab_type": "text"
      },
      "source": [
        "## Building our network\n",
        "\n",
        "\n",
        "Our input data is simply vectors, and our labels are scalars (1s and 0s): this is the easiest setup you will ever encounter. A type of \n",
        "network that performs well on such a problem would be a simple stack of fully-connected (`Dense`) layers with `relu` activations: `Dense(16, \n",
        "activation='relu')`\n",
        "\n",
        "The argument being passed to each `Dense` layer (16) is the number of \"hidden units\" of the layer. What's a hidden unit? It's a dimension \n",
        "in the representation space of the layer. You may remember from the previous chapter that each such `Dense` layer with a `relu` activation implements \n",
        "the following chain of tensor operations:\n",
        "\n",
        "`output = relu(dot(W, input) + b)`\n",
        "\n",
        "Having 16 hidden units means that the weight matrix `W` will have shape `(input_dimension, 16)`, i.e. the dot product with `W` will project the \n",
        "input data onto a 16-dimensional representation space (and then we would add the bias vector `b` and apply the `relu` operation). You can \n",
        "intuitively understand the dimensionality of your representation space as \"how much freedom you are allowing the network to have when \n",
        "learning internal representations\". Having more hidden units (a higher-dimensional representation space) allows your network to learn more \n",
        "complex representations, but it makes your network more computationally expensive and may lead to learning unwanted patterns (patterns that \n",
        "will improve performance on the training data but not on the test data).\n",
        "\n",
        "There are two key architecture decisions to be made about such stack of dense layers:\n",
        "\n",
        "* How many layers to use.\n",
        "* How many \"hidden units\" to chose for each layer.\n",
        "\n",
        "In the next chapter, you will learn formal principles to guide you in making these choices. \n",
        "For the time being, you will have to trust us with the following architecture choice: \n",
        "two intermediate layers with 16 hidden units each, \n",
        "and a third layer which will output the scalar prediction regarding the sentiment of the current review. \n",
        "The intermediate layers will use `relu` as their \"activation function\", \n",
        "and the final layer will use a sigmoid activation so as to output a probability \n",
        "(a score between 0 and 1, indicating how likely the sample is to have the target \"1\", i.e. how likely the review is to be positive). \n",
        "A `relu` (rectified linear unit) is a function meant to zero-out negative values, \n",
        "while a sigmoid \"squashes\" arbitrary values into the `[0, 1]` interval, thus outputting something that can be interpreted as a probability."
      ]
    },
    {
      "cell_type": "markdown",
      "metadata": {
        "id": "YMuYMCdfymhF",
        "colab_type": "text"
      },
      "source": [
        "Here's what our network looks like:\n",
        "\n",
        "![3-layer network](https://s3.amazonaws.com/book.keras.io/img/ch3/3_layer_network.png)"
      ]
    },
    {
      "cell_type": "markdown",
      "metadata": {
        "id": "3s7xailpymhF",
        "colab_type": "text"
      },
      "source": [
        "And here's the Keras implementation, very similar to the MNIST example you saw previously:"
      ]
    },
    {
      "cell_type": "code",
      "metadata": {
        "id": "xZIGydZXymhG",
        "colab_type": "code",
        "colab": {}
      },
      "source": [
        "from keras import models\n",
        "from keras import layers\n",
        "\n",
        "model = models.Sequential()\n",
        "model.add(layers.Dense(16, activation='relu', input_shape=(10000,)))\n",
        "model.add(layers.Dense(16, activation='relu'))\n",
        "model.add(layers.Dense(1, activation='sigmoid'))"
      ],
      "execution_count": 0,
      "outputs": []
    },
    {
      "cell_type": "markdown",
      "metadata": {
        "id": "mO1T4f7WymhJ",
        "colab_type": "text"
      },
      "source": [
        "\n",
        "Lastly, we need to pick a loss function and an optimizer. Since we are facing a binary classification problem and the output of our network \n",
        "is a probability (we end our network with a single-unit layer with a sigmoid activation), is it best to use the `binary_crossentropy` loss. \n",
        "It isn't the only viable choice: you could use, for instance, `mean_squared_error`. But crossentropy is usually the best choice when you \n",
        "are dealing with models that output probabilities. Crossentropy is a quantity from the field of Information Theory, that measures the \"distance\" \n",
        "between probability distributions, or in our case, between the ground-truth distribution and our predictions.\n",
        "\n",
        "Here's the step where we configure our model with the `rmsprop` optimizer and the `binary_crossentropy` loss function. Note that we will \n",
        "also monitor accuracy during training."
      ]
    },
    {
      "cell_type": "code",
      "metadata": {
        "id": "7j8mjtKPymhK",
        "colab_type": "code",
        "colab": {}
      },
      "source": [
        "model.compile(optimizer='rmsprop',\n",
        "              loss='binary_crossentropy',\n",
        "              metrics=['accuracy'])"
      ],
      "execution_count": 0,
      "outputs": []
    },
    {
      "cell_type": "markdown",
      "metadata": {
        "id": "WGJiPRnaymhN",
        "colab_type": "text"
      },
      "source": [
        "We are passing our optimizer, loss function and metrics as strings, which is possible because `rmsprop`, `binary_crossentropy` and \n",
        "`accuracy` are packaged as part of Keras. Sometimes you may want to configure the parameters of your optimizer, or pass a custom loss \n",
        "function or metric function. This former can be done by passing an optimizer class instance as the `optimizer` argument:"
      ]
    },
    {
      "cell_type": "code",
      "metadata": {
        "id": "3FynXajAymhO",
        "colab_type": "code",
        "colab": {}
      },
      "source": [
        "from keras import optimizers\n",
        "\n",
        "model.compile(optimizer=optimizers.RMSprop(lr=0.001),\n",
        "              loss='binary_crossentropy',\n",
        "              metrics=['accuracy'])"
      ],
      "execution_count": 0,
      "outputs": []
    },
    {
      "cell_type": "markdown",
      "metadata": {
        "id": "bTOM4qdHymhR",
        "colab_type": "text"
      },
      "source": [
        "The latter can be done by passing function objects as the `loss` or `metrics` arguments:"
      ]
    },
    {
      "cell_type": "code",
      "metadata": {
        "id": "cAStadGJymhR",
        "colab_type": "code",
        "colab": {}
      },
      "source": [
        "from keras import losses\n",
        "from keras import metrics\n",
        "\n",
        "model.compile(optimizer=optimizers.RMSprop(lr=0.001),\n",
        "              loss=losses.binary_crossentropy,\n",
        "              metrics=[metrics.binary_accuracy])"
      ],
      "execution_count": 0,
      "outputs": []
    },
    {
      "cell_type": "markdown",
      "metadata": {
        "id": "aWDGbv-6ymhU",
        "colab_type": "text"
      },
      "source": [
        "## Validating our approach\n",
        "\n",
        "In order to monitor during training the accuracy of the model on data that it has never seen before, we will create a \"validation set\" by \n",
        "setting apart 10,000 samples from the original training data:"
      ]
    },
    {
      "cell_type": "code",
      "metadata": {
        "id": "VJGXuj4symhV",
        "colab_type": "code",
        "colab": {}
      },
      "source": [
        "x_val = x_train[:10000]\n",
        "partial_x_train = x_train[10000:]\n",
        "\n",
        "y_val = y_train[:10000]\n",
        "partial_y_train = y_train[10000:]"
      ],
      "execution_count": 0,
      "outputs": []
    },
    {
      "cell_type": "markdown",
      "metadata": {
        "collapsed": true,
        "id": "d3MoVCtiymhY",
        "colab_type": "text"
      },
      "source": [
        "We will now train our model for 20 epochs (20 iterations over all samples in the `x_train` and `y_train` tensors), in mini-batches of 512 \n",
        "samples. At this same time we will monitor loss and accuracy on the 10,000 samples that we set apart. This is done by passing the \n",
        "validation data as the `validation_data` argument:"
      ]
    },
    {
      "cell_type": "code",
      "metadata": {
        "id": "IteP4-JU4MF2",
        "colab_type": "code",
        "colab": {}
      },
      "source": [
        "callback = tf.keras.callbacks.EarlyStopping(\n",
        "    monitor='val_loss', min_delta=0, patience=3, verbose=0, mode='auto',\n",
        "    baseline=None, restore_best_weights=False\n",
        ")"
      ],
      "execution_count": 0,
      "outputs": []
    },
    {
      "cell_type": "code",
      "metadata": {
        "id": "hE9mPVVqymhZ",
        "colab_type": "code",
        "outputId": "aea5d1c0-2a99-4073-9a81-bbbeb50e76a0",
        "colab": {
          "base_uri": "https://localhost:8080/",
          "height": 714
        }
      },
      "source": [
        "history = model.fit(partial_x_train,\n",
        "                    partial_y_train,\n",
        "                    epochs=20,\n",
        "                    batch_size=512,\n",
        "                    validation_data=(x_val, y_val))"
      ],
      "execution_count": 17,
      "outputs": [
        {
          "output_type": "stream",
          "text": [
            "Train on 15000 samples, validate on 10000 samples\n",
            "Epoch 1/20\n",
            "15000/15000 [==============================] - 1s 98us/step - loss: 0.5322 - binary_accuracy: 0.7952 - val_loss: 0.4168 - val_binary_accuracy: 0.8510\n",
            "Epoch 2/20\n",
            "15000/15000 [==============================] - 1s 93us/step - loss: 0.3200 - binary_accuracy: 0.8977 - val_loss: 0.3136 - val_binary_accuracy: 0.8803\n",
            "Epoch 3/20\n",
            "15000/15000 [==============================] - 1s 90us/step - loss: 0.2284 - binary_accuracy: 0.9249 - val_loss: 0.2877 - val_binary_accuracy: 0.8864\n",
            "Epoch 4/20\n",
            "15000/15000 [==============================] - 1s 91us/step - loss: 0.1752 - binary_accuracy: 0.9413 - val_loss: 0.2893 - val_binary_accuracy: 0.8821\n",
            "Epoch 5/20\n",
            "15000/15000 [==============================] - 1s 91us/step - loss: 0.1435 - binary_accuracy: 0.9539 - val_loss: 0.3119 - val_binary_accuracy: 0.8748\n",
            "Epoch 6/20\n",
            "15000/15000 [==============================] - 1s 91us/step - loss: 0.1179 - binary_accuracy: 0.9624 - val_loss: 0.3047 - val_binary_accuracy: 0.8798\n",
            "Epoch 7/20\n",
            "15000/15000 [==============================] - 1s 91us/step - loss: 0.0966 - binary_accuracy: 0.9709 - val_loss: 0.3206 - val_binary_accuracy: 0.8784\n",
            "Epoch 8/20\n",
            "15000/15000 [==============================] - 1s 93us/step - loss: 0.0815 - binary_accuracy: 0.9759 - val_loss: 0.3300 - val_binary_accuracy: 0.8818\n",
            "Epoch 9/20\n",
            "15000/15000 [==============================] - 1s 90us/step - loss: 0.0628 - binary_accuracy: 0.9841 - val_loss: 0.4076 - val_binary_accuracy: 0.8618\n",
            "Epoch 10/20\n",
            "15000/15000 [==============================] - 1s 91us/step - loss: 0.0524 - binary_accuracy: 0.9864 - val_loss: 0.3973 - val_binary_accuracy: 0.8718\n",
            "Epoch 11/20\n",
            "15000/15000 [==============================] - 1s 92us/step - loss: 0.0408 - binary_accuracy: 0.9907 - val_loss: 0.4354 - val_binary_accuracy: 0.8673\n",
            "Epoch 12/20\n",
            "15000/15000 [==============================] - 1s 90us/step - loss: 0.0339 - binary_accuracy: 0.9926 - val_loss: 0.4357 - val_binary_accuracy: 0.8770\n",
            "Epoch 13/20\n",
            "15000/15000 [==============================] - 1s 91us/step - loss: 0.0247 - binary_accuracy: 0.9953 - val_loss: 0.5754 - val_binary_accuracy: 0.8602\n",
            "Epoch 14/20\n",
            "15000/15000 [==============================] - 1s 91us/step - loss: 0.0182 - binary_accuracy: 0.9974 - val_loss: 0.5891 - val_binary_accuracy: 0.8533\n",
            "Epoch 15/20\n",
            "15000/15000 [==============================] - 1s 92us/step - loss: 0.0172 - binary_accuracy: 0.9969 - val_loss: 0.5264 - val_binary_accuracy: 0.8713\n",
            "Epoch 16/20\n",
            "15000/15000 [==============================] - 1s 91us/step - loss: 0.0094 - binary_accuracy: 0.9994 - val_loss: 0.5959 - val_binary_accuracy: 0.8636\n",
            "Epoch 17/20\n",
            "15000/15000 [==============================] - 1s 93us/step - loss: 0.0152 - binary_accuracy: 0.9962 - val_loss: 0.5953 - val_binary_accuracy: 0.8687\n",
            "Epoch 18/20\n",
            "15000/15000 [==============================] - 1s 95us/step - loss: 0.0048 - binary_accuracy: 0.9998 - val_loss: 0.6194 - val_binary_accuracy: 0.8677\n",
            "Epoch 19/20\n",
            "15000/15000 [==============================] - 1s 91us/step - loss: 0.0072 - binary_accuracy: 0.9984 - val_loss: 0.6597 - val_binary_accuracy: 0.8667\n",
            "Epoch 20/20\n",
            "15000/15000 [==============================] - 1s 92us/step - loss: 0.0028 - binary_accuracy: 0.9999 - val_loss: 0.6952 - val_binary_accuracy: 0.8660\n"
          ],
          "name": "stdout"
        }
      ]
    },
    {
      "cell_type": "markdown",
      "metadata": {
        "id": "fMA2dkrVymhb",
        "colab_type": "text"
      },
      "source": [
        "On CPU, this will take less than two seconds per epoch -- training is over in 20 seconds. At the end of every epoch, there is a slight pause \n",
        "as the model computes its loss and accuracy on the 10,000 samples of the validation data.\n",
        "\n",
        "Note that the call to `model.fit()` returns a `History` object. This object has a member `history`, which is a dictionary containing data \n",
        "about everything that happened during training. Let's take a look at it:"
      ]
    },
    {
      "cell_type": "code",
      "metadata": {
        "id": "J9BKYv5wymhc",
        "colab_type": "code",
        "outputId": "06ace167-52c3-46be-b3c8-5a122c93ef44",
        "colab": {
          "base_uri": "https://localhost:8080/",
          "height": 34
        }
      },
      "source": [
        "history_dict = history.history\n",
        "history_dict.keys()"
      ],
      "execution_count": 18,
      "outputs": [
        {
          "output_type": "execute_result",
          "data": {
            "text/plain": [
              "dict_keys(['val_loss', 'val_binary_accuracy', 'loss', 'binary_accuracy'])"
            ]
          },
          "metadata": {
            "tags": []
          },
          "execution_count": 18
        }
      ]
    },
    {
      "cell_type": "markdown",
      "metadata": {
        "id": "41EGxby4ymhe",
        "colab_type": "text"
      },
      "source": [
        "It contains 4 entries: one per metric that was being monitored, during training and during validation. Let's use Matplotlib to plot the \n",
        "training and validation loss side by side, as well as the training and validation accuracy:"
      ]
    },
    {
      "cell_type": "code",
      "metadata": {
        "id": "erS95qqyymhf",
        "colab_type": "code",
        "outputId": "40d5ef15-4c7b-4cc3-bdbd-88151b9c7012",
        "colab": {
          "base_uri": "https://localhost:8080/",
          "height": 295
        }
      },
      "source": [
        "import matplotlib.pyplot as plt\n",
        "\n",
        "acc = history.history['binary_accuracy']\n",
        "val_acc = history.history['val_binary_accuracy']\n",
        "loss = history.history['loss']\n",
        "val_loss = history.history['val_loss']\n",
        "\n",
        "epochs = range(1, len(acc) + 1)\n",
        "\n",
        "# \"bo\" is for \"blue dot\"\n",
        "plt.plot(epochs, loss, 'bo', label='Training loss')\n",
        "# b is for \"solid blue line\"\n",
        "plt.plot(epochs, val_loss, 'b', label='Validation loss')\n",
        "plt.title('Training and validation loss')\n",
        "plt.xlabel('Epochs')\n",
        "plt.ylabel('Loss')\n",
        "plt.legend()\n",
        "\n",
        "plt.show()"
      ],
      "execution_count": 19,
      "outputs": [
        {
          "output_type": "display_data",
          "data": {
            "image/png": "[encoded data removed]",
            "text/plain": [
              "<Figure size 432x288 with 1 Axes>"
            ]
          },
          "metadata": {
            "tags": [],
            "needs_background": "light"
          }
        }
      ]
    },
    {
      "cell_type": "code",
      "metadata": {
        "id": "OZCwBUWGymhh",
        "colab_type": "code",
        "outputId": "80ecbd67-7cce-4186-f46f-9b791906aa09",
        "colab": {
          "base_uri": "https://localhost:8080/",
          "height": 295
        }
      },
      "source": [
        "plt.clf()   # clear figure\n",
        "acc_values = history_dict['binary_accuracy']\n",
        "val_acc_values = history_dict['val_binary_accuracy']\n",
        "\n",
        "plt.plot(epochs, acc, 'bo', label='Training acc')\n",
        "plt.plot(epochs, val_acc, 'b', label='Validation acc')\n",
        "plt.title('Training and validation accuracy')\n",
        "plt.xlabel('Epochs')\n",
        "plt.ylabel('Loss')\n",
        "plt.legend()\n",
        "\n",
        "plt.show()"
      ],
      "execution_count": 21,
      "outputs": [
        {
          "output_type": "display_data",
          "data": {
            "image/png": "[encoded data removed]",
            "text/plain": [
              "<Figure size 432x288 with 1 Axes>"
            ]
          },
          "metadata": {
            "tags": [],
            "needs_background": "light"
          }
        }
      ]
    },
    {
      "cell_type": "markdown",
      "metadata": {
        "id": "BGNLMmfJymhk",
        "colab_type": "text"
      },
      "source": [
        "\n",
        "The dots are the training loss and accuracy, while the solid lines are the validation loss and accuracy. Note that your own results may vary \n",
        "slightly due to a different random initialization of your network.\n",
        "\n",
        "As you can see, the training loss decreases with every epoch and the training accuracy increases with every epoch. That's what you would \n",
        "expect when running gradient descent optimization -- the quantity you are trying to minimize should get lower with every iteration. But that \n",
        "isn't the case for the validation loss and accuracy: they seem to peak at the fourth epoch. This is an example of what we were warning \n",
        "against earlier: a model that performs better on the training data isn't necessarily a model that will do better on data it has never seen \n",
        "before. In precise terms, what you are seeing is \"overfitting\": after the second epoch, we are over-optimizing on the training data, and we \n",
        "ended up learning representations that are specific to the training data and do not generalize to data outside of the training set.\n",
        "\n",
        "In this case, to prevent overfitting, we could simply stop training after three epochs. In general, there is a range of techniques you can \n",
        "leverage to mitigate overfitting, which we will cover in the next chapter.\n",
        "\n",
        "Let's train a new network from scratch for four epochs, then evaluate it on our test data:"
      ]
    },
    {
      "cell_type": "code",
      "metadata": {
        "id": "g2TblieZymhk",
        "colab_type": "code",
        "outputId": "21e9a57f-8e3c-44e0-c6df-a4df0b4f21b9",
        "colab": {
          "base_uri": "https://localhost:8080/",
          "height": 170
        }
      },
      "source": [
        "model = models.Sequential()\n",
        "model.add(layers.Dense(16, activation='relu', input_shape=(10000,)))\n",
        "model.add(layers.Dense(16, activation='relu'))\n",
        "model.add(layers.Dense(1, activation='sigmoid'))\n",
        "\n",
        "model.compile(optimizer='rmsprop',\n",
        "              loss='binary_crossentropy',\n",
        "              metrics=['accuracy'])\n",
        "\n",
        "model.fit(x_train, y_train, epochs=4, batch_size=512)\n",
        "results = model.evaluate(x_test, y_test)"
      ],
      "execution_count": 22,
      "outputs": [
        {
          "output_type": "stream",
          "text": [
            "Epoch 1/4\n",
            "25000/25000 [==============================] - 2s 69us/step - loss: 0.4531 - accuracy: 0.8184\n",
            "Epoch 2/4\n",
            "25000/25000 [==============================] - 2s 66us/step - loss: 0.2565 - accuracy: 0.9094\n",
            "Epoch 3/4\n",
            "25000/25000 [==============================] - 2s 65us/step - loss: 0.1951 - accuracy: 0.9299\n",
            "Epoch 4/4\n",
            "25000/25000 [==============================] - 2s 66us/step - loss: 0.1623 - accuracy: 0.9421\n",
            "25000/25000 [==============================] - 2s 62us/step\n"
          ],
          "name": "stdout"
        }
      ]
    },
    {
      "cell_type": "code",
      "metadata": {
        "id": "7pbFKvXIymho",
        "colab_type": "code",
        "outputId": "b25fda31-f9be-4096-cdaf-e273c56d37db",
        "colab": {
          "base_uri": "https://localhost:8080/",
          "height": 34
        }
      },
      "source": [
        "results"
      ],
      "execution_count": 23,
      "outputs": [
        {
          "output_type": "execute_result",
          "data": {
            "text/plain": [
              "[0.3108060128211975, 0.8796399831771851]"
            ]
          },
          "metadata": {
            "tags": []
          },
          "execution_count": 23
        }
      ]
    },
    {
      "cell_type": "markdown",
      "metadata": {
        "id": "EOUG7e73ymhr",
        "colab_type": "text"
      },
      "source": [
        "Our fairly naive approach achieves an accuracy of 88%. With state-of-the-art approaches, one should be able to get close to 95%."
      ]
    },
    {
      "cell_type": "markdown",
      "metadata": {
        "id": "1iRqdv9tymhr",
        "colab_type": "text"
      },
      "source": [
        "## Using a trained network to generate predictions on new data\n",
        "\n",
        "After having trained a network, you will want to use it in a practical setting. You can generate the likelihood of reviews being positive \n",
        "by using the `predict` method:"
      ]
    },
    {
      "cell_type": "code",
      "metadata": {
        "id": "P-BgA2Ulymhs",
        "colab_type": "code",
        "outputId": "a5da9d54-a39c-4eb2-d8c5-177f10e3a37f",
        "colab": {
          "base_uri": "https://localhost:8080/",
          "height": 136
        }
      },
      "source": [
        "model.predict(x_test)"
      ],
      "execution_count": 24,
      "outputs": [
        {
          "output_type": "execute_result",
          "data": {
            "text/plain": [
              "array([[0.15700042],\n",
              "       [0.9992838 ],\n",
              "       [0.6150447 ],\n",
              "       ...,\n",
              "       [0.09416363],\n",
              "       [0.04738489],\n",
              "       [0.4721934 ]], dtype=float32)"
            ]
          },
          "metadata": {
            "tags": []
          },
          "execution_count": 24
        }
      ]
    },
    {
      "cell_type": "markdown",
      "metadata": {
        "id": "d-Skty5Tymhu",
        "colab_type": "text"
      },
      "source": [
        "As you can see, the network is very confident for some samples (0.99 or more, or 0.01 or less) but less confident for others (0.6, 0.4). \n"
      ]
    },
    {
      "cell_type": "markdown",
      "metadata": {
        "id": "030hG-z_ymhv",
        "colab_type": "text"
      },
      "source": [
        "## Further experiments\n",
        "\n",
        "\n",
        "* We were using 2 hidden layers. Try to use 1 or 3 hidden layers and see how it affects validation and test accuracy.\n",
        "* Try to use layers with more hidden units or less hidden units: 32 units, 64 units...\n",
        "* Try to use the `mse` loss function instead of `binary_crossentropy`.\n",
        "* Try to use the `tanh` activation (an activation that was popular in the early days of neural networks) instead of `relu`.\n",
        "\n",
        "These experiments will help convince you that the architecture choices we have made are all fairly reasonable, although they can still be \n",
        "improved!"
      ]
    },
    {
      "cell_type": "markdown",
      "metadata": {
        "id": "5H1Ysnrxymhv",
        "colab_type": "text"
      },
      "source": [
        "## Conclusions\n",
        "\n",
        "\n",
        "Here's what you should take away from this example:\n",
        "\n",
        "* There's usually quite a bit of preprocessing you need to do on your raw data in order to be able to feed it -- as tensors -- into a neural \n",
        "network. In the case of sequences of words, they can be encoded as binary vectors -- but there are other encoding options too.\n",
        "* Stacks of `Dense` layers with `relu` activations can solve a wide range of problems (including sentiment classification), and you will \n",
        "likely use them frequently.\n",
        "* In a binary classification problem (two output classes), your network should end with a `Dense` layer with 1 unit and a `sigmoid` activation, \n",
        "i.e. the output of your network should be a scalar between 0 and 1, encoding a probability.\n",
        "* With such a scalar sigmoid output, on a binary classification problem, the loss function you should use is `binary_crossentropy`.\n",
        "* The `rmsprop` optimizer is generally a good enough choice of optimizer, whatever your problem. That's one less thing for you to worry \n",
        "about.\n",
        "* As they get better on their training data, neural networks eventually start _overfitting_ and end up obtaining increasingly worse results on data \n",
        "never-seen-before. Make sure to always monitor performance on data that is outside of the training set.\n"
      ]
    }
  ]
}