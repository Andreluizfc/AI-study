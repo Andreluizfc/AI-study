{
  "nbformat": 4,
  "nbformat_minor": 0,
  "metadata": {
    "kernelspec": {
      "display_name": "Python 3",
      "language": "python",
      "name": "python3"
    },
    "language_info": {
      "codemirror_mode": {
        "name": "ipython",
        "version": 3
      },
      "file_extension": ".py",
      "mimetype": "text/x-python",
      "name": "python",
      "nbconvert_exporter": "python",
      "pygments_lexer": "ipython3",
      "version": "3.5.2"
    },
    "colab": {
      "name": "Cópia de 4.4-overfitting-and-underfitting.ipynb",
      "provenance": [],
      "include_colab_link": true
    }
  },
  "cells": [
    {
      "cell_type": "markdown",
      "metadata": {
        "id": "view-in-github",
        "colab_type": "text"
      },
      "source": [
        "<a href=\"https://colab.research.google.com/github/Andreluizfc/AI-study/blob/master/books/deep-learning-with-python/4_4_overfitting_and_underfitting.ipynb\" target=\"_parent\"><img src=\"https://colab.research.google.com/assets/colab-badge.svg\" alt=\"Open In Colab\"/></a>"
      ]
    },
    {
      "cell_type": "code",
      "metadata": {
        "id": "f5E9g6O-b_Ze",
        "colab_type": "code",
        "colab": {
          "base_uri": "https://localhost:8080/",
          "height": 54
        },
        "outputId": "6653e280-83f4-4bc3-fca2-fc90e6f68cd0"
      },
      "source": [
        "import keras\n",
        "keras.__version__"
      ],
      "execution_count": 1,
      "outputs": [
        {
          "output_type": "stream",
          "text": [
            "Using TensorFlow backend.\n"
          ],
          "name": "stderr"
        },
        {
          "output_type": "execute_result",
          "data": {
            "application/vnd.google.colaboratory.intrinsic+json": {
              "type": "string"
            },
            "text/plain": [
              "'2.3.1'"
            ]
          },
          "metadata": {
            "tags": []
          },
          "execution_count": 1
        }
      ]
    },
    {
      "cell_type": "markdown",
      "metadata": {
        "id": "fa0FXpaOb_Zh",
        "colab_type": "text"
      },
      "source": [
        "# Overfitting and underfitting\n",
        "\n",
        "This notebook contains the code samples found in Chapter 3, Section 6 of [Deep Learning with Python](https://www.manning.com/books/deep-learning-with-python?a_aid=keras&a_bid=76564dff). Note that the original text features far more content, in particular further explanations and figures: in this notebook, you will only find source code and related comments.\n",
        "\n",
        "----\n",
        "\n",
        "\n",
        "In all the examples we saw in the previous chapter -- movie review sentiment prediction, topic classification, and house price regression -- \n",
        "we could notice that the performance of our model on the held-out validation data would always peak after a few epochs and would then start \n",
        "degrading, i.e. our model would quickly start to _overfit_ to the training data. Overfitting happens in every single machine learning \n",
        "problem. Learning how to deal with overfitting is essential to mastering machine learning.\n",
        "\n",
        "The fundamental issue in machine learning is the tension between optimization and generalization. \"Optimization\" refers to the process of \n",
        "adjusting a model to get the best performance possible on the training data (the \"learning\" in \"machine learning\"), while \"generalization\" \n",
        "refers to how well the trained model would perform on data it has never seen before. The goal of the game is to get good generalization, of \n",
        "course, but you do not control generalization; you can only adjust the model based on its training data.\n",
        "\n",
        "At the beginning of training, optimization and generalization are correlated: the lower your loss on training data, the lower your loss on \n",
        "test data. While this is happening, your model is said to be _under-fit_: there is still progress to be made; the network hasn't yet \n",
        "modeled all relevant patterns in the training data. But after a certain number of iterations on the training data, generalization stops \n",
        "improving, validation metrics stall then start degrading: the model is then starting to over-fit, i.e. is it starting to learn patterns \n",
        "that are specific to the training data but that are misleading or irrelevant when it comes to new data.\n",
        "\n",
        "To prevent a model from learning misleading or irrelevant patterns found in the training data, _the best solution is of course to get \n",
        "more training data_. A model trained on more data will naturally generalize better. When that is no longer possible, the next best solution \n",
        "is to modulate the quantity of information that your model is allowed to store, or to add constraints on what information it is allowed to \n",
        "store. If a network can only afford to memorize a small number of patterns, the optimization process will force it to focus on the most \n",
        "prominent patterns, which have a better chance of generalizing well.\n",
        "\n",
        "The processing of fighting overfitting in this way is called _regularization_. Let's review some of the most common regularization \n",
        "techniques, and let's apply them in practice to improve our movie classification model from  the previous chapter."
      ]
    },
    {
      "cell_type": "markdown",
      "metadata": {
        "id": "1HYljPkZb_Zi",
        "colab_type": "text"
      },
      "source": [
        "Note: in this notebook we will be using the IMDB test set as our validation set. It doesn't matter in this context.\n",
        "\n",
        "Let's prepare the data using the code from Chapter 3, Section 5:"
      ]
    },
    {
      "cell_type": "code",
      "metadata": {
        "id": "8NJUEAVKb_Zi",
        "colab_type": "code",
        "colab": {
          "base_uri": "https://localhost:8080/",
          "height": 54
        },
        "outputId": "bf81c32f-24bb-41b9-a1e7-e06afbdc347a"
      },
      "source": [
        "from keras.datasets import imdb\n",
        "import numpy as np\n",
        "\n",
        "(train_data, train_labels), (test_data, test_labels) = imdb.load_data(num_words=10000)\n",
        "\n",
        "def vectorize_sequences(sequences, dimension=10000):\n",
        "    # Create an all-zero matrix of shape (len(sequences), dimension)\n",
        "    results = np.zeros((len(sequences), dimension))\n",
        "    for i, sequence in enumerate(sequences):\n",
        "        results[i, sequence] = 1.  # set specific indices of results[i] to 1s\n",
        "    return results\n",
        "\n",
        "# Our vectorized training data\n",
        "x_train = vectorize_sequences(train_data)\n",
        "# Our vectorized test data\n",
        "x_test = vectorize_sequences(test_data)\n",
        "# Our vectorized labels\n",
        "y_train = np.asarray(train_labels).astype('float32')\n",
        "y_test = np.asarray(test_labels).astype('float32')"
      ],
      "execution_count": 2,
      "outputs": [
        {
          "output_type": "stream",
          "text": [
            "Downloading data from https://s3.amazonaws.com/text-datasets/imdb.npz\n",
            "17465344/17464789 [==============================] - 0s 0us/step\n"
          ],
          "name": "stdout"
        }
      ]
    },
    {
      "cell_type": "markdown",
      "metadata": {
        "id": "pcBefGxXb_Zm",
        "colab_type": "text"
      },
      "source": [
        "# Fighting overfitting\n",
        "\n",
        "## Reducing the network's size\n",
        "\n",
        "\n",
        "The simplest way to prevent overfitting is to reduce the size of the model, i.e. the number of learnable parameters in the model (which is \n",
        "determined by the number of layers and the number of units per layer). In deep learning, the number of learnable parameters in a model is \n",
        "often referred to as the model's \"capacity\". Intuitively, a model with more parameters will have more \"memorization capacity\" and therefore \n",
        "will be able to easily learn a perfect dictionary-like mapping between training samples and their targets, a mapping without any \n",
        "generalization power. For instance, a model with 500,000 binary parameters could easily be made to learn the class of every digits in the \n",
        "MNIST training set: we would only need 10 binary parameters for each of the 50,000 digits. Such a model would be useless for classifying \n",
        "new digit samples. Always keep this in mind: deep learning models tend to be good at fitting to the training data, but the real challenge \n",
        "is generalization, not fitting.\n",
        "\n",
        "On the other hand, if the network has limited memorization resources, it will not be able to learn this mapping as easily, and thus, in \n",
        "order to minimize its loss, it will have to resort to learning compressed representations that have predictive power regarding the targets \n",
        "-- precisely the type of representations that we are interested in. At the same time, keep in mind that you should be using models that have \n",
        "enough parameters that they won't be underfitting: your model shouldn't be starved for memorization resources. There is a compromise to be \n",
        "found between \"too much capacity\" and \"not enough capacity\".\n",
        "\n",
        "Unfortunately, there is no magical formula to determine what the right number of layers is, or what the right size for each layer is. You \n",
        "will have to evaluate an array of different architectures (on your validation set, not on your test set, of course) in order to find the \n",
        "right model size for your data. The general workflow to find an appropriate model size is to start with relatively few layers and \n",
        "parameters, and start increasing the size of the layers or adding new layers until you see diminishing returns with regard to the \n",
        "validation loss.\n",
        "\n",
        "Let's try this on our movie review classification network. Our original network was as such:"
      ]
    },
    {
      "cell_type": "code",
      "metadata": {
        "id": "-gPvciNAb_Zm",
        "colab_type": "code",
        "colab": {}
      },
      "source": [
        "from keras import models\n",
        "from keras import layers\n",
        "\n",
        "original_model = models.Sequential()\n",
        "original_model.add(layers.Dense(16, activation='relu', input_shape=(10000,)))\n",
        "original_model.add(layers.Dense(16, activation='relu'))\n",
        "original_model.add(layers.Dense(1, activation='sigmoid'))\n",
        "\n",
        "original_model.compile(optimizer='rmsprop',\n",
        "                       loss='binary_crossentropy',\n",
        "                       metrics=['acc'])"
      ],
      "execution_count": 3,
      "outputs": []
    },
    {
      "cell_type": "markdown",
      "metadata": {
        "id": "LGaU3rk_b_Zq",
        "colab_type": "text"
      },
      "source": [
        "Now let's try to replace it with this smaller network:"
      ]
    },
    {
      "cell_type": "code",
      "metadata": {
        "id": "4J13MpPQb_Zq",
        "colab_type": "code",
        "colab": {}
      },
      "source": [
        "smaller_model = models.Sequential()\n",
        "smaller_model.add(layers.Dense(4, activation='relu', input_shape=(10000,)))\n",
        "smaller_model.add(layers.Dense(4, activation='relu'))\n",
        "smaller_model.add(layers.Dense(1, activation='sigmoid'))\n",
        "\n",
        "smaller_model.compile(optimizer='rmsprop',\n",
        "                      loss='binary_crossentropy',\n",
        "                      metrics=['acc'])"
      ],
      "execution_count": 4,
      "outputs": []
    },
    {
      "cell_type": "markdown",
      "metadata": {
        "id": "PsnImPWjb_Zt",
        "colab_type": "text"
      },
      "source": [
        "\n",
        "Here's a comparison of the validation losses of the original network and the smaller network. The dots are the validation loss values of \n",
        "the smaller network, and the crosses are the initial network (remember: a lower validation loss signals a better model)."
      ]
    },
    {
      "cell_type": "code",
      "metadata": {
        "id": "NoKHA4-nb_Zu",
        "colab_type": "code",
        "colab": {
          "base_uri": "https://localhost:8080/",
          "height": 763
        },
        "outputId": "8a54d6e6-f9b0-4a7f-bfa8-acd85325e3bf"
      },
      "source": [
        "original_hist = original_model.fit(x_train, y_train,\n",
        "                                   epochs=20,\n",
        "                                   batch_size=512,\n",
        "                                   validation_data=(x_test, y_test))"
      ],
      "execution_count": 5,
      "outputs": [
        {
          "output_type": "stream",
          "text": [
            "Train on 25000 samples, validate on 25000 samples\n",
            "Epoch 1/20\n",
            "25000/25000 [==============================] - 4s 176us/step - loss: 0.4540 - acc: 0.8189 - val_loss: 0.3320 - val_acc: 0.8823\n",
            "Epoch 2/20\n",
            "25000/25000 [==============================] - 4s 160us/step - loss: 0.2565 - acc: 0.9097 - val_loss: 0.2970 - val_acc: 0.8813\n",
            "Epoch 3/20\n",
            "25000/25000 [==============================] - 4s 163us/step - loss: 0.1998 - acc: 0.9298 - val_loss: 0.2843 - val_acc: 0.8861\n",
            "Epoch 4/20\n",
            "25000/25000 [==============================] - 4s 161us/step - loss: 0.1650 - acc: 0.9413 - val_loss: 0.3615 - val_acc: 0.8611\n",
            "Epoch 5/20\n",
            "25000/25000 [==============================] - 4s 163us/step - loss: 0.1452 - acc: 0.9492 - val_loss: 0.3140 - val_acc: 0.8789\n",
            "Epoch 6/20\n",
            "25000/25000 [==============================] - 4s 162us/step - loss: 0.1257 - acc: 0.9568 - val_loss: 0.3419 - val_acc: 0.8734\n",
            "Epoch 7/20\n",
            "25000/25000 [==============================] - 4s 160us/step - loss: 0.1109 - acc: 0.9622 - val_loss: 0.3574 - val_acc: 0.8737\n",
            "Epoch 8/20\n",
            "25000/25000 [==============================] - 4s 163us/step - loss: 0.0978 - acc: 0.9667 - val_loss: 0.3956 - val_acc: 0.8654\n",
            "Epoch 9/20\n",
            "25000/25000 [==============================] - 4s 162us/step - loss: 0.0838 - acc: 0.9725 - val_loss: 0.4316 - val_acc: 0.8662\n",
            "Epoch 10/20\n",
            "25000/25000 [==============================] - 4s 161us/step - loss: 0.0745 - acc: 0.9757 - val_loss: 0.4440 - val_acc: 0.8638\n",
            "Epoch 11/20\n",
            "25000/25000 [==============================] - 4s 159us/step - loss: 0.0636 - acc: 0.9799 - val_loss: 0.4739 - val_acc: 0.8618\n",
            "Epoch 12/20\n",
            "25000/25000 [==============================] - 4s 160us/step - loss: 0.0533 - acc: 0.9841 - val_loss: 0.5611 - val_acc: 0.8573\n",
            "Epoch 13/20\n",
            "25000/25000 [==============================] - 4s 161us/step - loss: 0.0461 - acc: 0.9869 - val_loss: 0.5594 - val_acc: 0.8540\n",
            "Epoch 14/20\n",
            "25000/25000 [==============================] - 4s 159us/step - loss: 0.0410 - acc: 0.9874 - val_loss: 0.5805 - val_acc: 0.8567\n",
            "Epoch 15/20\n",
            "25000/25000 [==============================] - 4s 162us/step - loss: 0.0334 - acc: 0.9910 - val_loss: 0.6168 - val_acc: 0.8554\n",
            "Epoch 16/20\n",
            "25000/25000 [==============================] - 4s 163us/step - loss: 0.0264 - acc: 0.9927 - val_loss: 0.6900 - val_acc: 0.8550\n",
            "Epoch 17/20\n",
            "25000/25000 [==============================] - 4s 162us/step - loss: 0.0236 - acc: 0.9934 - val_loss: 0.6972 - val_acc: 0.8544\n",
            "Epoch 18/20\n",
            "25000/25000 [==============================] - 4s 167us/step - loss: 0.0167 - acc: 0.9965 - val_loss: 0.7352 - val_acc: 0.8537\n",
            "Epoch 19/20\n",
            "25000/25000 [==============================] - 4s 161us/step - loss: 0.0191 - acc: 0.9947 - val_loss: 0.8192 - val_acc: 0.8518\n",
            "Epoch 20/20\n",
            "25000/25000 [==============================] - 4s 160us/step - loss: 0.0107 - acc: 0.9978 - val_loss: 0.8117 - val_acc: 0.8516\n"
          ],
          "name": "stdout"
        }
      ]
    },
    {
      "cell_type": "code",
      "metadata": {
        "id": "9T6nos9sb_Zx",
        "colab_type": "code",
        "colab": {
          "base_uri": "https://localhost:8080/",
          "height": 763
        },
        "outputId": "7e3b1d6f-6d43-4303-a88c-b1c17350ce50"
      },
      "source": [
        "smaller_model_hist = smaller_model.fit(x_train, y_train,\n",
        "                                       epochs=20,\n",
        "                                       batch_size=512,\n",
        "                                       validation_data=(x_test, y_test))"
      ],
      "execution_count": 6,
      "outputs": [
        {
          "output_type": "stream",
          "text": [
            "Train on 25000 samples, validate on 25000 samples\n",
            "Epoch 1/20\n",
            "25000/25000 [==============================] - 4s 161us/step - loss: 0.5769 - acc: 0.7103 - val_loss: 0.5241 - val_acc: 0.7805\n",
            "Epoch 2/20\n",
            "25000/25000 [==============================] - 4s 154us/step - loss: 0.4749 - acc: 0.8472 - val_loss: 0.4735 - val_acc: 0.8264\n",
            "Epoch 3/20\n",
            "25000/25000 [==============================] - 4s 156us/step - loss: 0.4163 - acc: 0.8982 - val_loss: 0.4306 - val_acc: 0.8864\n",
            "Epoch 4/20\n",
            "25000/25000 [==============================] - 4s 157us/step - loss: 0.3597 - acc: 0.9220 - val_loss: 0.3841 - val_acc: 0.8864\n",
            "Epoch 5/20\n",
            "25000/25000 [==============================] - 4s 155us/step - loss: 0.2993 - acc: 0.9338 - val_loss: 0.3429 - val_acc: 0.8877\n",
            "Epoch 6/20\n",
            "25000/25000 [==============================] - 4s 157us/step - loss: 0.2401 - acc: 0.9401 - val_loss: 0.3090 - val_acc: 0.8862\n",
            "Epoch 7/20\n",
            "25000/25000 [==============================] - 4s 156us/step - loss: 0.1956 - acc: 0.9426 - val_loss: 0.3130 - val_acc: 0.8835\n",
            "Epoch 8/20\n",
            "25000/25000 [==============================] - 4s 155us/step - loss: 0.1650 - acc: 0.9500 - val_loss: 0.3014 - val_acc: 0.8842\n",
            "Epoch 9/20\n",
            "25000/25000 [==============================] - 4s 153us/step - loss: 0.1444 - acc: 0.9568 - val_loss: 0.3123 - val_acc: 0.8812\n",
            "Epoch 10/20\n",
            "25000/25000 [==============================] - 4s 155us/step - loss: 0.1294 - acc: 0.9610 - val_loss: 0.3240 - val_acc: 0.8786\n",
            "Epoch 11/20\n",
            "25000/25000 [==============================] - 4s 155us/step - loss: 0.1169 - acc: 0.9666 - val_loss: 0.3360 - val_acc: 0.8768\n",
            "Epoch 12/20\n",
            "25000/25000 [==============================] - 4s 154us/step - loss: 0.1071 - acc: 0.9697 - val_loss: 0.3503 - val_acc: 0.8736\n",
            "Epoch 13/20\n",
            "25000/25000 [==============================] - 4s 154us/step - loss: 0.0983 - acc: 0.9726 - val_loss: 0.3802 - val_acc: 0.8709\n",
            "Epoch 14/20\n",
            "25000/25000 [==============================] - 4s 155us/step - loss: 0.0893 - acc: 0.9757 - val_loss: 0.3820 - val_acc: 0.8700\n",
            "Epoch 15/20\n",
            "25000/25000 [==============================] - 4s 154us/step - loss: 0.0818 - acc: 0.9779 - val_loss: 0.4107 - val_acc: 0.8678\n",
            "Epoch 16/20\n",
            "25000/25000 [==============================] - 4s 153us/step - loss: 0.0748 - acc: 0.9803 - val_loss: 0.4288 - val_acc: 0.8668\n",
            "Epoch 17/20\n",
            "25000/25000 [==============================] - 4s 155us/step - loss: 0.0690 - acc: 0.9817 - val_loss: 0.4576 - val_acc: 0.8631\n",
            "Epoch 18/20\n",
            "25000/25000 [==============================] - 4s 155us/step - loss: 0.0622 - acc: 0.9843 - val_loss: 0.4873 - val_acc: 0.8608\n",
            "Epoch 19/20\n",
            "25000/25000 [==============================] - 4s 156us/step - loss: 0.0562 - acc: 0.9859 - val_loss: 0.4950 - val_acc: 0.8622\n",
            "Epoch 20/20\n",
            "25000/25000 [==============================] - 4s 155us/step - loss: 0.0516 - acc: 0.9873 - val_loss: 0.5146 - val_acc: 0.8615\n"
          ],
          "name": "stdout"
        }
      ]
    },
    {
      "cell_type": "code",
      "metadata": {
        "id": "8y-8doSTb_Z0",
        "colab_type": "code",
        "colab": {}
      },
      "source": [
        "epochs = range(1, 21)\n",
        "original_val_loss = original_hist.history['val_loss']\n",
        "smaller_model_val_loss = smaller_model_hist.history['val_loss']"
      ],
      "execution_count": 7,
      "outputs": []
    },
    {
      "cell_type": "code",
      "metadata": {
        "id": "o49o--Nab_Z3",
        "colab_type": "code",
        "colab": {
          "base_uri": "https://localhost:8080/",
          "height": 279
        },
        "outputId": "8fe07d4e-a0b8-4a7a-80ff-9d3c195216bc"
      },
      "source": [
        "import matplotlib.pyplot as plt\n",
        "\n",
        "# b+ is for \"blue cross\"\n",
        "plt.plot(epochs, original_val_loss, 'b+', label='Original model')\n",
        "# \"bo\" is for \"blue dot\"\n",
        "plt.plot(epochs, smaller_model_val_loss, 'bo', label='Smaller model')\n",
        "plt.xlabel('Epochs')\n",
        "plt.ylabel('Validation loss')\n",
        "plt.legend()\n",
        "\n",
        "plt.show()"
      ],
      "execution_count": 8,
      "outputs": [
        {
          "output_type": "display_data",
          "data": {
            "image/png": "[encoded data removed]",
            "text/plain": [
              "<Figure size 432x288 with 1 Axes>"
            ]
          },
          "metadata": {
            "tags": [],
            "needs_background": "light"
          }
        }
      ]
    },
    {
      "cell_type": "markdown",
      "metadata": {
        "id": "P6czQtaSb_Z6",
        "colab_type": "text"
      },
      "source": [
        "\n",
        "As you can see, the smaller network starts overfitting later than the reference one (after 6 epochs rather than 4) and its performance \n",
        "degrades much more slowly once it starts overfitting.\n",
        "\n",
        "Now, for kicks, let's add to this benchmark a network that has much more capacity, far more than the problem would warrant:"
      ]
    },
    {
      "cell_type": "code",
      "metadata": {
        "id": "n7BA3Q23b_Z6",
        "colab_type": "code",
        "colab": {}
      },
      "source": [
        "bigger_model = models.Sequential()\n",
        "bigger_model.add(layers.Dense(512, activation='relu', input_shape=(10000,)))\n",
        "bigger_model.add(layers.Dense(512, activation='relu'))\n",
        "bigger_model.add(layers.Dense(1, activation='sigmoid'))\n",
        "\n",
        "bigger_model.compile(optimizer='rmsprop',\n",
        "                     loss='binary_crossentropy',\n",
        "                     metrics=['acc'])"
      ],
      "execution_count": 9,
      "outputs": []
    },
    {
      "cell_type": "code",
      "metadata": {
        "id": "m3Ujubvhb_Z9",
        "colab_type": "code",
        "colab": {
          "base_uri": "https://localhost:8080/",
          "height": 763
        },
        "outputId": "7f331f10-1c46-4c1d-be4a-6beea09839bc"
      },
      "source": [
        "bigger_model_hist = bigger_model.fit(x_train, y_train,\n",
        "                                     epochs=20,\n",
        "                                     batch_size=512,\n",
        "                                     validation_data=(x_test, y_test))"
      ],
      "execution_count": 10,
      "outputs": [
        {
          "output_type": "stream",
          "text": [
            "Train on 25000 samples, validate on 25000 samples\n",
            "Epoch 1/20\n",
            "25000/25000 [==============================] - 20s 793us/step - loss: 0.4887 - acc: 0.8221 - val_loss: 0.2802 - val_acc: 0.8846\n",
            "Epoch 2/20\n",
            "25000/25000 [==============================] - 19s 771us/step - loss: 0.2244 - acc: 0.9087 - val_loss: 0.4204 - val_acc: 0.8310\n",
            "Epoch 3/20\n",
            "25000/25000 [==============================] - 19s 775us/step - loss: 0.1382 - acc: 0.9467 - val_loss: 0.3334 - val_acc: 0.8831\n",
            "Epoch 4/20\n",
            "25000/25000 [==============================] - 19s 771us/step - loss: 0.0821 - acc: 0.9725 - val_loss: 0.3837 - val_acc: 0.8803\n",
            "Epoch 5/20\n",
            "25000/25000 [==============================] - 19s 768us/step - loss: 0.0744 - acc: 0.9860 - val_loss: 0.3986 - val_acc: 0.8773\n",
            "Epoch 6/20\n",
            "25000/25000 [==============================] - 19s 771us/step - loss: 0.0034 - acc: 0.9998 - val_loss: 0.6580 - val_acc: 0.8805\n",
            "Epoch 7/20\n",
            "25000/25000 [==============================] - 19s 771us/step - loss: 3.7917e-04 - acc: 1.0000 - val_loss: 0.9434 - val_acc: 0.8745\n",
            "Epoch 8/20\n",
            "25000/25000 [==============================] - 19s 767us/step - loss: 0.1312 - acc: 0.9884 - val_loss: 0.6991 - val_acc: 0.8800\n",
            "Epoch 9/20\n",
            "25000/25000 [==============================] - 20s 781us/step - loss: 2.4405e-04 - acc: 1.0000 - val_loss: 0.8372 - val_acc: 0.8800\n",
            "Epoch 10/20\n",
            "25000/25000 [==============================] - 19s 767us/step - loss: 1.4757e-04 - acc: 1.0000 - val_loss: 1.0121 - val_acc: 0.8795\n",
            "Epoch 11/20\n",
            "25000/25000 [==============================] - 19s 775us/step - loss: 4.1261e-06 - acc: 1.0000 - val_loss: 1.3047 - val_acc: 0.8653\n",
            "Epoch 12/20\n",
            "25000/25000 [==============================] - 19s 767us/step - loss: 0.1753 - acc: 0.9897 - val_loss: 0.9145 - val_acc: 0.8690\n",
            "Epoch 13/20\n",
            "25000/25000 [==============================] - 19s 769us/step - loss: 1.6336e-05 - acc: 1.0000 - val_loss: 0.9407 - val_acc: 0.8760\n",
            "Epoch 14/20\n",
            "25000/25000 [==============================] - 19s 762us/step - loss: 3.9634e-06 - acc: 1.0000 - val_loss: 0.9720 - val_acc: 0.8762\n",
            "Epoch 15/20\n",
            "25000/25000 [==============================] - 19s 765us/step - loss: 1.7697e-06 - acc: 1.0000 - val_loss: 1.0474 - val_acc: 0.8765\n",
            "Epoch 16/20\n",
            "25000/25000 [==============================] - 19s 759us/step - loss: 5.8875e-07 - acc: 1.0000 - val_loss: 1.1989 - val_acc: 0.8768\n",
            "Epoch 17/20\n",
            "25000/25000 [==============================] - 19s 773us/step - loss: 1.4788e-07 - acc: 1.0000 - val_loss: 1.3515 - val_acc: 0.8778\n",
            "Epoch 18/20\n",
            "25000/25000 [==============================] - 19s 766us/step - loss: 4.4074e-08 - acc: 1.0000 - val_loss: 1.4418 - val_acc: 0.8776\n",
            "Epoch 19/20\n",
            "25000/25000 [==============================] - 19s 765us/step - loss: 1.9896e-08 - acc: 1.0000 - val_loss: 1.4933 - val_acc: 0.8779\n",
            "Epoch 20/20\n",
            "25000/25000 [==============================] - 19s 762us/step - loss: 1.2441e-08 - acc: 1.0000 - val_loss: 1.5244 - val_acc: 0.8779\n"
          ],
          "name": "stdout"
        }
      ]
    },
    {
      "cell_type": "markdown",
      "metadata": {
        "id": "ArXlUrAQb_aA",
        "colab_type": "text"
      },
      "source": [
        "Here's how the bigger network fares compared to the reference one. The dots are the validation loss values of the bigger network, and the \n",
        "crosses are the initial network."
      ]
    },
    {
      "cell_type": "code",
      "metadata": {
        "id": "33K95XVhb_aB",
        "colab_type": "code",
        "colab": {
          "base_uri": "https://localhost:8080/",
          "height": 279
        },
        "outputId": "2da21a7c-b6d6-4db9-d62b-aef61a3b89ed"
      },
      "source": [
        "bigger_model_val_loss = bigger_model_hist.history['val_loss']\n",
        "\n",
        "plt.plot(epochs, original_val_loss, 'b+', label='Original model')\n",
        "plt.plot(epochs, bigger_model_val_loss, 'bo', label='Bigger model')\n",
        "plt.xlabel('Epochs')\n",
        "plt.ylabel('Validation loss')\n",
        "plt.legend()\n",
        "\n",
        "plt.show()"
      ],
      "execution_count": 11,
      "outputs": [
        {
          "output_type": "display_data",
          "data": {
            "image/png": "[encoded data removed]",
            "text/plain": [
              "<Figure size 432x288 with 1 Axes>"
            ]
          },
          "metadata": {
            "tags": [],
            "needs_background": "light"
          }
        }
      ]
    },
    {
      "cell_type": "markdown",
      "metadata": {
        "id": "YhhAI850b_aD",
        "colab_type": "text"
      },
      "source": [
        "\n",
        "The bigger network starts overfitting almost right away, after just one epoch, and overfits much more severely. Its validation loss is also \n",
        "more noisy.\n",
        "\n",
        "Meanwhile, here are the training losses for our two networks:"
      ]
    },
    {
      "cell_type": "code",
      "metadata": {
        "id": "N02UTw-Qb_aE",
        "colab_type": "code",
        "colab": {
          "base_uri": "https://localhost:8080/",
          "height": 279
        },
        "outputId": "a618295b-3452-495c-ed21-54a77ea748eb"
      },
      "source": [
        "original_train_loss = original_hist.history['loss']\n",
        "bigger_model_train_loss = bigger_model_hist.history['loss']\n",
        "\n",
        "plt.plot(epochs, original_train_loss, 'b+', label='Original model')\n",
        "plt.plot(epochs, bigger_model_train_loss, 'bo', label='Bigger model')\n",
        "plt.xlabel('Epochs')\n",
        "plt.ylabel('Training loss')\n",
        "plt.legend()\n",
        "\n",
        "plt.show()"
      ],
      "execution_count": 12,
      "outputs": [
        {
          "output_type": "display_data",
          "data": {
            "image/png": "[encoded data removed]",
            "text/plain": [
              "<Figure size 432x288 with 1 Axes>"
            ]
          },
          "metadata": {
            "tags": [],
            "needs_background": "light"
          }
        }
      ]
    },
    {
      "cell_type": "markdown",
      "metadata": {
        "id": "tjQveHtCb_aH",
        "colab_type": "text"
      },
      "source": [
        "As you can see, the bigger network gets its training loss near zero very quickly. The more capacity the network has, the quicker it will be \n",
        "able to model the training data (resulting in a low training loss), but the more susceptible it is to overfitting (resulting in a large \n",
        "difference between the training and validation loss)."
      ]
    },
    {
      "cell_type": "markdown",
      "metadata": {
        "id": "DrL-gFzzb_aH",
        "colab_type": "text"
      },
      "source": [
        "## Adding weight regularization\n",
        "\n",
        "\n",
        "You may be familiar with _Occam's Razor_ principle: given two explanations for something, the explanation most likely to be correct is the \n",
        "\"simplest\" one, the one that makes the least amount of assumptions. This also applies to the models learned by neural networks: given some \n",
        "training data and a network architecture, there are multiple sets of weights values (multiple _models_) that could explain the data, and \n",
        "simpler models are less likely to overfit than complex ones.\n",
        "\n",
        "A \"simple model\" in this context is a model where the distribution of parameter values has less entropy (or a model with fewer \n",
        "parameters altogether, as we saw in the section above). Thus a common way to mitigate overfitting is to put constraints on the complexity \n",
        "of a network by forcing its weights to only take small values, which makes the distribution of weight values more \"regular\". This is called \n",
        "\"weight regularization\", and it is done by adding to the loss function of the network a _cost_ associated with having large weights. This \n",
        "cost comes in two flavors:\n",
        "\n",
        "* L1 regularization, where the cost added is proportional to the _absolute value of the weights coefficients_ (i.e. to what is called the \n",
        "\"L1 norm\" of the weights).\n",
        "* L2 regularization, where the cost added is proportional to the _square of the value of the weights coefficients_ (i.e. to what is called \n",
        "the \"L2 norm\" of the weights). L2 regularization is also called _weight decay_ in the context of neural networks. Don't let the different \n",
        "name confuse you: weight decay is mathematically the exact same as L2 regularization.\n",
        "\n",
        "In Keras, weight regularization is added by passing _weight regularizer instances_ to layers as keyword arguments. Let's add L2 weight \n",
        "regularization to our movie review classification network:"
      ]
    },
    {
      "cell_type": "code",
      "metadata": {
        "id": "UqAwl7yJb_aI",
        "colab_type": "code",
        "colab": {}
      },
      "source": [
        "from keras import regularizers\n",
        "\n",
        "l2_model = models.Sequential()\n",
        "l2_model.add(layers.Dense(16, kernel_regularizer=regularizers.l2(0.001),\n",
        "                          activation='relu', input_shape=(10000,)))\n",
        "l2_model.add(layers.Dense(16, kernel_regularizer=regularizers.l2(0.001),\n",
        "                          activation='relu'))\n",
        "l2_model.add(layers.Dense(1, activation='sigmoid'))"
      ],
      "execution_count": 13,
      "outputs": []
    },
    {
      "cell_type": "code",
      "metadata": {
        "id": "_UYVtdgcb_aL",
        "colab_type": "code",
        "colab": {}
      },
      "source": [
        "l2_model.compile(optimizer='rmsprop',\n",
        "                 loss='binary_crossentropy',\n",
        "                 metrics=['acc'])"
      ],
      "execution_count": 14,
      "outputs": []
    },
    {
      "cell_type": "markdown",
      "metadata": {
        "id": "qOZZHQYTb_aN",
        "colab_type": "text"
      },
      "source": [
        "`l2(0.001)` means that every coefficient in the weight matrix of the layer will add `0.001 * weight_coefficient_value` to the total loss of \n",
        "the network. Note that because this penalty is _only added at training time_, the loss for this network will be much higher at training \n",
        "than at test time.\n",
        "\n",
        "Here's the impact of our L2 regularization penalty:"
      ]
    },
    {
      "cell_type": "code",
      "metadata": {
        "id": "T0DNo_vhb_aO",
        "colab_type": "code",
        "colab": {
          "base_uri": "https://localhost:8080/",
          "height": 763
        },
        "outputId": "934c6a34-3c25-4d19-e54c-b2ec14569276"
      },
      "source": [
        "l2_model_hist = l2_model.fit(x_train, y_train,\n",
        "                             epochs=20,\n",
        "                             batch_size=512,\n",
        "                             validation_data=(x_test, y_test))"
      ],
      "execution_count": 15,
      "outputs": [
        {
          "output_type": "stream",
          "text": [
            "Train on 25000 samples, validate on 25000 samples\n",
            "Epoch 1/20\n",
            "25000/25000 [==============================] - 4s 179us/step - loss: 0.4852 - acc: 0.8237 - val_loss: 0.3920 - val_acc: 0.8637\n",
            "Epoch 2/20\n",
            "25000/25000 [==============================] - 4s 172us/step - loss: 0.3091 - acc: 0.9050 - val_loss: 0.3413 - val_acc: 0.8826\n",
            "Epoch 3/20\n",
            "25000/25000 [==============================] - 4s 172us/step - loss: 0.2651 - acc: 0.9232 - val_loss: 0.3291 - val_acc: 0.8873\n",
            "Epoch 4/20\n",
            "25000/25000 [==============================] - 4s 171us/step - loss: 0.2439 - acc: 0.9298 - val_loss: 0.3321 - val_acc: 0.8880\n",
            "Epoch 5/20\n",
            "25000/25000 [==============================] - 4s 171us/step - loss: 0.2312 - acc: 0.9354 - val_loss: 0.3458 - val_acc: 0.8807\n",
            "Epoch 6/20\n",
            "25000/25000 [==============================] - 4s 172us/step - loss: 0.2244 - acc: 0.9371 - val_loss: 0.3560 - val_acc: 0.8788\n",
            "Epoch 7/20\n",
            "25000/25000 [==============================] - 4s 171us/step - loss: 0.2145 - acc: 0.9425 - val_loss: 0.3737 - val_acc: 0.8744\n",
            "Epoch 8/20\n",
            "25000/25000 [==============================] - 4s 172us/step - loss: 0.2108 - acc: 0.9446 - val_loss: 0.3642 - val_acc: 0.8785\n",
            "Epoch 9/20\n",
            "25000/25000 [==============================] - 4s 172us/step - loss: 0.2043 - acc: 0.9465 - val_loss: 0.3835 - val_acc: 0.8734\n",
            "Epoch 10/20\n",
            "25000/25000 [==============================] - 4s 172us/step - loss: 0.2021 - acc: 0.9459 - val_loss: 0.3957 - val_acc: 0.8705\n",
            "Epoch 11/20\n",
            "25000/25000 [==============================] - 4s 171us/step - loss: 0.1966 - acc: 0.9487 - val_loss: 0.3861 - val_acc: 0.8747\n",
            "Epoch 12/20\n",
            "25000/25000 [==============================] - 4s 175us/step - loss: 0.1929 - acc: 0.9508 - val_loss: 0.4034 - val_acc: 0.8695\n",
            "Epoch 13/20\n",
            "25000/25000 [==============================] - 4s 171us/step - loss: 0.1920 - acc: 0.9508 - val_loss: 0.3992 - val_acc: 0.8718\n",
            "Epoch 14/20\n",
            "25000/25000 [==============================] - 4s 170us/step - loss: 0.1867 - acc: 0.9519 - val_loss: 0.4053 - val_acc: 0.8708\n",
            "Epoch 15/20\n",
            "25000/25000 [==============================] - 4s 173us/step - loss: 0.1816 - acc: 0.9554 - val_loss: 0.4293 - val_acc: 0.8653\n",
            "Epoch 16/20\n",
            "25000/25000 [==============================] - 4s 173us/step - loss: 0.1804 - acc: 0.9561 - val_loss: 0.4380 - val_acc: 0.8633\n",
            "Epoch 17/20\n",
            "25000/25000 [==============================] - 4s 175us/step - loss: 0.1778 - acc: 0.9572 - val_loss: 0.4260 - val_acc: 0.8668\n",
            "Epoch 18/20\n",
            "25000/25000 [==============================] - 4s 180us/step - loss: 0.1721 - acc: 0.9600 - val_loss: 0.4244 - val_acc: 0.8673\n",
            "Epoch 19/20\n",
            "25000/25000 [==============================] - 4s 173us/step - loss: 0.1777 - acc: 0.9560 - val_loss: 0.4311 - val_acc: 0.8666\n",
            "Epoch 20/20\n",
            "25000/25000 [==============================] - 4s 171us/step - loss: 0.1682 - acc: 0.9609 - val_loss: 0.4342 - val_acc: 0.8664\n"
          ],
          "name": "stdout"
        }
      ]
    },
    {
      "cell_type": "code",
      "metadata": {
        "id": "ocUC01K_b_aR",
        "colab_type": "code",
        "colab": {
          "base_uri": "https://localhost:8080/",
          "height": 279
        },
        "outputId": "75c2bef4-3619-4fea-a611-4b2eaf1cbc97"
      },
      "source": [
        "l2_model_val_loss = l2_model_hist.history['val_loss']\n",
        "\n",
        "plt.plot(epochs, original_val_loss, 'b+', label='Original model')\n",
        "plt.plot(epochs, l2_model_val_loss, 'bo', label='L2-regularized model')\n",
        "plt.xlabel('Epochs')\n",
        "plt.ylabel('Validation loss')\n",
        "plt.legend()\n",
        "\n",
        "plt.show()"
      ],
      "execution_count": 16,
      "outputs": [
        {
          "output_type": "display_data",
          "data": {
            "image/png": "[encoded data removed]",
            "text/plain": [
              "<Figure size 432x288 with 1 Axes>"
            ]
          },
          "metadata": {
            "tags": [],
            "needs_background": "light"
          }
        }
      ]
    },
    {
      "cell_type": "markdown",
      "metadata": {
        "id": "nag27KPGb_aT",
        "colab_type": "text"
      },
      "source": [
        "\n",
        "\n",
        "As you can see, the model with L2 regularization (dots) has become much more resistant to overfitting than the reference model (crosses), \n",
        "even though both models have the same number of parameters.\n",
        "\n",
        "As alternatives to L2 regularization, you could use one of the following Keras weight regularizers:"
      ]
    },
    {
      "cell_type": "code",
      "metadata": {
        "id": "yr136zamb_aU",
        "colab_type": "code",
        "colab": {
          "base_uri": "https://localhost:8080/",
          "height": 35
        },
        "outputId": "ae9266eb-7e13-4d32-a4d7-8c02b9de1bfd"
      },
      "source": [
        "from keras import regularizers\n",
        "\n",
        "# L1 regularization\n",
        "regularizers.l1(0.001)\n",
        "\n",
        "# L1 and L2 regularization at the same time\n",
        "regularizers.l1_l2(l1=0.001, l2=0.001)"
      ],
      "execution_count": 17,
      "outputs": [
        {
          "output_type": "execute_result",
          "data": {
            "text/plain": [
              "<keras.regularizers.L1L2 at 0x7fb40f7eab00>"
            ]
          },
          "metadata": {
            "tags": []
          },
          "execution_count": 17
        }
      ]
    },
    {
      "cell_type": "markdown",
      "metadata": {
        "id": "hLq7KAoqb_aX",
        "colab_type": "text"
      },
      "source": [
        "## Adding dropout\n",
        "\n",
        "\n",
        "Dropout is one of the most effective and most commonly used regularization techniques for neural networks, developed by Hinton and his \n",
        "students at the University of Toronto. Dropout, applied to a layer, consists of randomly \"dropping out\" (i.e. setting to zero) a number of \n",
        "output features of the layer during training. Let's say a given layer would normally have returned a vector `[0.2, 0.5, 1.3, 0.8, 1.1]` for a \n",
        "given input sample during training; after applying dropout, this vector will have a few zero entries distributed at random, e.g. `[0, 0.5, \n",
        "1.3, 0, 1.1]`. The \"dropout rate\" is the fraction of the features that are being zeroed-out; it is usually set between 0.2 and 0.5. At test \n",
        "time, no units are dropped out, and instead the layer's output values are scaled down by a factor equal to the dropout rate, so as to \n",
        "balance for the fact that more units are active than at training time.\n",
        "\n",
        "Consider a Numpy matrix containing the output of a layer, `layer_output`, of shape `(batch_size, features)`. At training time, we would be \n",
        "zero-ing out at random a fraction of the values in the matrix:"
      ]
    },
    {
      "cell_type": "code",
      "metadata": {
        "id": "Pct7-43Bb_aX",
        "colab_type": "code",
        "colab": {}
      },
      "source": [
        "# At training time: we drop out 50% of the units in the output\n",
        "layer_output *= np.randint(0, high=2, size=layer_output.shape)"
      ],
      "execution_count": null,
      "outputs": []
    },
    {
      "cell_type": "markdown",
      "metadata": {
        "id": "2l7_Rte_b_aa",
        "colab_type": "text"
      },
      "source": [
        "\n",
        "At test time, we would be scaling the output down by the dropout rate. Here we scale by 0.5 (because we were previous dropping half the \n",
        "units):"
      ]
    },
    {
      "cell_type": "code",
      "metadata": {
        "id": "WiyyT_qvb_aa",
        "colab_type": "code",
        "colab": {}
      },
      "source": [
        "# At test time:\n",
        "layer_output *= 0.5"
      ],
      "execution_count": null,
      "outputs": []
    },
    {
      "cell_type": "markdown",
      "metadata": {
        "id": "6mdWNGvEb_ad",
        "colab_type": "text"
      },
      "source": [
        "\n",
        "Note that this process can be implemented by doing both operations at training time and leaving the output unchanged at test time, which is \n",
        "often the way it is implemented in practice:"
      ]
    },
    {
      "cell_type": "code",
      "metadata": {
        "id": "pZETH2ASb_ad",
        "colab_type": "code",
        "colab": {}
      },
      "source": [
        "# At training time:\n",
        "layer_output *= np.randint(0, high=2, size=layer_output.shape)\n",
        "# Note that we are scaling *up* rather scaling *down* in this case\n",
        "layer_output /= 0.5"
      ],
      "execution_count": null,
      "outputs": []
    },
    {
      "cell_type": "markdown",
      "metadata": {
        "id": "i23HZSRob_ag",
        "colab_type": "text"
      },
      "source": [
        "\n",
        "This technique may seem strange and arbitrary. Why would this help reduce overfitting? Geoff Hinton has said that he was inspired, among \n",
        "other things, by a fraud prevention mechanism used by banks -- in his own words: _\"I went to my bank. The tellers kept changing and I asked \n",
        "one of them why. He said he didn’t know but they got moved around a lot. I figured it must be because it would require cooperation \n",
        "between employees to successfully defraud the bank. This made me realize that randomly removing a different subset of neurons on each \n",
        "example would prevent conspiracies and thus reduce overfitting\"_.\n",
        "\n",
        "The core idea is that introducing noise in the output values of a layer can break up happenstance patterns that are not significant (what \n",
        "Hinton refers to as \"conspiracies\"), which the network would start memorizing if no noise was present. \n",
        "\n",
        "In Keras you can introduce dropout in a network via the `Dropout` layer, which gets applied to the output of layer right before it, e.g.:"
      ]
    },
    {
      "cell_type": "code",
      "metadata": {
        "id": "X9419dWmb_ah",
        "colab_type": "code",
        "colab": {}
      },
      "source": [
        "model.add(layers.Dropout(0.5))"
      ],
      "execution_count": null,
      "outputs": []
    },
    {
      "cell_type": "markdown",
      "metadata": {
        "id": "rWnBsLu3b_ak",
        "colab_type": "text"
      },
      "source": [
        "Let's add two `Dropout` layers in our IMDB network to see how well they do at reducing overfitting:"
      ]
    },
    {
      "cell_type": "code",
      "metadata": {
        "id": "EHcoheaPb_ak",
        "colab_type": "code",
        "colab": {}
      },
      "source": [
        "dpt_model = models.Sequential()\n",
        "dpt_model.add(layers.Dense(16, activation='relu', input_shape=(10000,)))\n",
        "dpt_model.add(layers.Dropout(0.5))\n",
        "dpt_model.add(layers.Dense(16, activation='relu'))\n",
        "dpt_model.add(layers.Dropout(0.5))\n",
        "dpt_model.add(layers.Dense(1, activation='sigmoid'))\n",
        "\n",
        "dpt_model.compile(optimizer='rmsprop',\n",
        "                  loss='binary_crossentropy',\n",
        "                  metrics=['acc'])"
      ],
      "execution_count": 20,
      "outputs": []
    },
    {
      "cell_type": "code",
      "metadata": {
        "id": "JWWmhTZIb_an",
        "colab_type": "code",
        "colab": {
          "base_uri": "https://localhost:8080/",
          "height": 763
        },
        "outputId": "92f1a95b-f307-4c9e-c0e2-b425576f5369"
      },
      "source": [
        "dpt_model_hist = dpt_model.fit(x_train, y_train,\n",
        "                               epochs=20,\n",
        "                               batch_size=512,\n",
        "                               validation_data=(x_test, y_test))"
      ],
      "execution_count": 22,
      "outputs": [
        {
          "output_type": "stream",
          "text": [
            "Train on 25000 samples, validate on 25000 samples\n",
            "Epoch 1/20\n",
            "25000/25000 [==============================] - 4s 175us/step - loss: 0.5789 - acc: 0.6990 - val_loss: 0.4330 - val_acc: 0.8601\n",
            "Epoch 2/20\n",
            "25000/25000 [==============================] - 4s 170us/step - loss: 0.4169 - acc: 0.8322 - val_loss: 0.3254 - val_acc: 0.8834\n",
            "Epoch 3/20\n",
            "25000/25000 [==============================] - 4s 169us/step - loss: 0.3316 - acc: 0.8758 - val_loss: 0.2826 - val_acc: 0.8892\n",
            "Epoch 4/20\n",
            "25000/25000 [==============================] - 4s 171us/step - loss: 0.2792 - acc: 0.9029 - val_loss: 0.2780 - val_acc: 0.8875\n",
            "Epoch 5/20\n",
            "25000/25000 [==============================] - 4s 171us/step - loss: 0.2449 - acc: 0.9139 - val_loss: 0.2787 - val_acc: 0.8886\n",
            "Epoch 6/20\n",
            "25000/25000 [==============================] - 4s 167us/step - loss: 0.2097 - acc: 0.9286 - val_loss: 0.2935 - val_acc: 0.8887\n",
            "Epoch 7/20\n",
            "25000/25000 [==============================] - 4s 171us/step - loss: 0.1913 - acc: 0.9341 - val_loss: 0.3104 - val_acc: 0.8864\n",
            "Epoch 8/20\n",
            "25000/25000 [==============================] - 4s 170us/step - loss: 0.1758 - acc: 0.9386 - val_loss: 0.3323 - val_acc: 0.8855\n",
            "Epoch 9/20\n",
            "25000/25000 [==============================] - 4s 170us/step - loss: 0.1614 - acc: 0.9468 - val_loss: 0.3605 - val_acc: 0.8792\n",
            "Epoch 10/20\n",
            "25000/25000 [==============================] - 4s 169us/step - loss: 0.1515 - acc: 0.9465 - val_loss: 0.3869 - val_acc: 0.8826\n",
            "Epoch 11/20\n",
            "25000/25000 [==============================] - 4s 170us/step - loss: 0.1411 - acc: 0.9516 - val_loss: 0.3939 - val_acc: 0.8799\n",
            "Epoch 12/20\n",
            "25000/25000 [==============================] - 4s 169us/step - loss: 0.1269 - acc: 0.9563 - val_loss: 0.4331 - val_acc: 0.8781\n",
            "Epoch 13/20\n",
            "25000/25000 [==============================] - 4s 171us/step - loss: 0.1242 - acc: 0.9564 - val_loss: 0.4538 - val_acc: 0.8788\n",
            "Epoch 14/20\n",
            "25000/25000 [==============================] - 4s 173us/step - loss: 0.1215 - acc: 0.9568 - val_loss: 0.4801 - val_acc: 0.8770\n",
            "Epoch 15/20\n",
            "25000/25000 [==============================] - 4s 177us/step - loss: 0.1174 - acc: 0.9586 - val_loss: 0.4809 - val_acc: 0.8756\n",
            "Epoch 16/20\n",
            "25000/25000 [==============================] - 4s 172us/step - loss: 0.1070 - acc: 0.9616 - val_loss: 0.5262 - val_acc: 0.8773\n",
            "Epoch 17/20\n",
            "25000/25000 [==============================] - 4s 174us/step - loss: 0.1094 - acc: 0.9628 - val_loss: 0.5504 - val_acc: 0.8747\n",
            "Epoch 18/20\n",
            "25000/25000 [==============================] - 4s 174us/step - loss: 0.1023 - acc: 0.9626 - val_loss: 0.5682 - val_acc: 0.8752\n",
            "Epoch 19/20\n",
            "25000/25000 [==============================] - 4s 168us/step - loss: 0.1017 - acc: 0.9626 - val_loss: 0.5880 - val_acc: 0.8694\n",
            "Epoch 20/20\n",
            "25000/25000 [==============================] - 4s 167us/step - loss: 0.0981 - acc: 0.9625 - val_loss: 0.5935 - val_acc: 0.8718\n"
          ],
          "name": "stdout"
        }
      ]
    },
    {
      "cell_type": "markdown",
      "metadata": {
        "id": "ObnTAg-Tb_ar",
        "colab_type": "text"
      },
      "source": [
        "Let's plot the results:"
      ]
    },
    {
      "cell_type": "code",
      "metadata": {
        "id": "kxOA4SQCb_as",
        "colab_type": "code",
        "colab": {
          "base_uri": "https://localhost:8080/",
          "height": 279
        },
        "outputId": "bce18cc2-c9cc-42ea-c3e7-30610ea08371"
      },
      "source": [
        "dpt_model_val_loss = dpt_model_hist.history['val_loss']\n",
        "\n",
        "plt.plot(epochs, original_val_loss, 'b+', label='Original model')\n",
        "plt.plot(epochs, dpt_model_val_loss, 'bo', label='Dropout-regularized model')\n",
        "plt.xlabel('Epochs')\n",
        "plt.ylabel('Validation loss')\n",
        "plt.legend()\n",
        "\n",
        "plt.show()"
      ],
      "execution_count": 23,
      "outputs": [
        {
          "output_type": "display_data",
          "data": {
            "image/png": "[encoded data removed]",
            "text/plain": [
              "<Figure size 432x288 with 1 Axes>"
            ]
          },
          "metadata": {
            "tags": [],
            "needs_background": "light"
          }
        }
      ]
    },
    {
      "cell_type": "markdown",
      "metadata": {
        "id": "-V_JaQzAb_au",
        "colab_type": "text"
      },
      "source": [
        "\n",
        "Again, a clear improvement over the reference network.\n",
        "\n",
        "To recap: here the most common ways to prevent overfitting in neural networks:\n",
        "\n",
        "* Getting more training data.\n",
        "* Reducing the capacity of the network.\n",
        "* Adding weight regularization.\n",
        "* Adding dropout."
      ]
    }
  ]
}