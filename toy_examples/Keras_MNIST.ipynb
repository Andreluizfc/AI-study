{
  "nbformat": 4,
  "nbformat_minor": 0,
  "metadata": {
    "colab": {
      "name": "Cópia de LiveCod1_Keras_MNIST.ipynb",
      "provenance": [],
      "collapsed_sections": [],
      "toc_visible": true,
      "include_colab_link": true
    },
    "kernelspec": {
      "name": "python3",
      "display_name": "Python 3"
    }
  },
  "cells": [
    {
      "cell_type": "markdown",
      "metadata": {
        "id": "view-in-github",
        "colab_type": "text"
      },
      "source": [
        "<a href=\"https://colab.research.google.com/github/Andreluizfc/AI-study/blob/master/toy_examples/Keras_MNIST.ipynb\" target=\"_parent\"><img src=\"https://colab.research.google.com/assets/colab-badge.svg\" alt=\"Open In Colab\"/></a>"
      ]
    },
    {
      "cell_type": "markdown",
      "metadata": {
        "id": "p_VzG4xDchLF"
      },
      "source": [
        "# Live Coding - Operações básicas em DL via Keras (Base MNIST)"
      ]
    },
    {
      "cell_type": "code",
      "metadata": {
        "id": "arOP6dyucxRo"
      },
      "source": [
        "reset -fs"
      ],
      "execution_count": null,
      "outputs": []
    },
    {
      "cell_type": "code",
      "metadata": {
        "id": "kKah0Sawc0A1"
      },
      "source": [
        "import keras"
      ],
      "execution_count": null,
      "outputs": []
    },
    {
      "cell_type": "code",
      "metadata": {
        "id": "4Qf54chxc46G"
      },
      "source": [
        "# Qual é o nosso mecanismo de backend?"
      ],
      "execution_count": null,
      "outputs": []
    },
    {
      "cell_type": "code",
      "metadata": {
        "id": "BX9WOwVXc5IV",
        "colab": {
          "base_uri": "https://localhost:8080/",
          "height": 35
        },
        "outputId": "21605b8e-f2af-49bf-d37d-d89585bfabb1"
      },
      "source": [
        "keras.backend.backend()"
      ],
      "execution_count": null,
      "outputs": [
        {
          "output_type": "execute_result",
          "data": {
            "application/vnd.google.colaboratory.intrinsic+json": {
              "type": "string"
            },
            "text/plain": [
              "'tensorflow'"
            ]
          },
          "metadata": {
            "tags": []
          },
          "execution_count": 5
        }
      ]
    },
    {
      "cell_type": "markdown",
      "metadata": {
        "id": "9GbGrYdUeWiM"
      },
      "source": [
        "TensorFlow:\n",
        "\n",
        "Um ótimo back-end;\n",
        "Uma arquitetura muito flexível que permite fazer praticamente qualquer operação numérica;\n",
        "Em seguida, implemente a computação em CPUs ou GPUs (uma ou mais) em desktops, nuvem ou dispositivos móveis."
      ]
    },
    {
      "cell_type": "markdown",
      "metadata": {
        "id": "R1XFgB-JedQ-"
      },
      "source": [
        "# MNIST handwritten digit database: \n",
        "\n",
        "O “Hello World!” da Visão Computacional"
      ]
    },
    {
      "cell_type": "code",
      "metadata": {
        "id": "ghFtaGOAc5h1"
      },
      "source": [
        "# Importando os dados"
      ],
      "execution_count": null,
      "outputs": []
    },
    {
      "cell_type": "code",
      "metadata": {
        "id": "RIfeAM3tc5ud"
      },
      "source": [
        "from keras.datasets import mnist"
      ],
      "execution_count": null,
      "outputs": []
    },
    {
      "cell_type": "code",
      "metadata": {
        "id": "a33-Y5cGc569"
      },
      "source": [
        "# Configurando nossos sets de terinamento e teste"
      ],
      "execution_count": null,
      "outputs": []
    },
    {
      "cell_type": "code",
      "metadata": {
        "id": "aUz1BXFrc6Ik",
        "colab": {
          "base_uri": "https://localhost:8080/"
        },
        "outputId": "fe2b44df-e1f8-4410-fcb8-4ba6e9810ba1"
      },
      "source": [
        "(x_train, y_train), (x_test, y_test) = mnist.load_data()"
      ],
      "execution_count": null,
      "outputs": [
        {
          "output_type": "stream",
          "text": [
            "Downloading data from https://storage.googleapis.com/tensorflow/tf-keras-datasets/mnist.npz\n",
            "11493376/11490434 [==============================] - 0s 0us/step\n"
          ],
          "name": "stdout"
        }
      ]
    },
    {
      "cell_type": "code",
      "metadata": {
        "id": "8u1VGzc8erV9",
        "colab": {
          "base_uri": "https://localhost:8080/",
          "height": 265
        },
        "outputId": "2fadd67b-1d70-40dd-beec-18fd2d153839"
      },
      "source": [
        "from random import randint\n",
        "from matplotlib import pyplot\n",
        "\n",
        "%matplotlib inline\n",
        "\n",
        "# dica - inspecionar visualmente nossos dados\n",
        "i = randint(0, x_train.shape[0])\n",
        "pyplot.imshow(x_train[i], cmap='gray_r');"
      ],
      "execution_count": null,
      "outputs": [
        {
          "output_type": "display_data",
          "data": {
            "image/png": "[encoded data removed]",
            "text/plain": [
              "<Figure size 432x288 with 1 Axes>"
            ]
          },
          "metadata": {
            "tags": [],
            "needs_background": "light"
          }
        }
      ]
    },
    {
      "cell_type": "code",
      "metadata": {
        "id": "jseb1bpTergG",
        "colab": {
          "base_uri": "https://localhost:8080/",
          "height": 265
        },
        "outputId": "45317421-99fb-4dda-aee7-cf7d96f4a7c7"
      },
      "source": [
        "i = 27_011 #27_011 é um 1?\n",
        "pyplot.imshow(x_train[i], cmap='gray_r');"
      ],
      "execution_count": null,
      "outputs": [
        {
          "output_type": "display_data",
          "data": {
            "image/png": "[encoded data removed]",
            "text/plain": [
              "<Figure size 432x288 with 1 Axes>"
            ]
          },
          "metadata": {
            "tags": [],
            "needs_background": "light"
          }
        }
      ]
    },
    {
      "cell_type": "markdown",
      "metadata": {
        "id": "fyW4M3F7ezS3"
      },
      "source": [
        "Esse dígito é um 1?"
      ]
    },
    {
      "cell_type": "code",
      "metadata": {
        "id": "nX42xA8rerk1",
        "colab": {
          "base_uri": "https://localhost:8080/"
        },
        "outputId": "fa1e9e8b-11d7-4341-b551-1864e9072923"
      },
      "source": [
        "y_train[i]"
      ],
      "execution_count": null,
      "outputs": [
        {
          "output_type": "execute_result",
          "data": {
            "text/plain": [
              "array([0., 1., 0., 0., 0., 0., 0., 0., 0., 0.], dtype=float32)"
            ]
          },
          "metadata": {
            "tags": []
          },
          "execution_count": 29
        }
      ]
    },
    {
      "cell_type": "markdown",
      "metadata": {
        "id": "Ihgja7gAfB0V"
      },
      "source": [
        "# 1.\"Limpeza\" de dados\n",
        "\n",
        "Converter matriz de imagem em vetor para alimentar a primeira camada;"
      ]
    },
    {
      "cell_type": "code",
      "metadata": {
        "id": "2Q9cR5C4ern3"
      },
      "source": [
        "# \"Limpeza\" de dados"
      ],
      "execution_count": null,
      "outputs": []
    },
    {
      "cell_type": "code",
      "metadata": {
        "id": "8ppN5nlyerqp"
      },
      "source": [
        "image_size = 784 # 28 x 28\n",
        "\n",
        "x_train = x_train.reshape(x_train.shape[0], image_size) # Transformando de matriz para vetor\n",
        "x_train = x_train.astype('float32') # Elencando como inteiros de 32 bits\n",
        "x_train /= 255 # Normalizando nossas entradas de 0-255 to 0.0-1.0\n",
        "\n",
        "x_test = x_test.reshape(x_test.shape[0], image_size) # Transformando de matriz para vetor\n",
        "x_test = x_test.astype('float32') # Elencando como inteiros de 32 bits\n",
        "x_test /= 255 # Normalize inputs from 0-255 to 0.0-1.0"
      ],
      "execution_count": null,
      "outputs": []
    },
    {
      "cell_type": "markdown",
      "metadata": {
        "id": "HAekfhJ6fKo_"
      },
      "source": [
        "# 2.Converter vetores de classes em matrizes de classes binárias"
      ]
    },
    {
      "cell_type": "code",
      "metadata": {
        "id": "wRkglQIIerwC"
      },
      "source": [
        "y_train = keras.utils.to_categorical(y_train, 10)\n",
        "y_test = keras.utils.to_categorical(y_test, 10)"
      ],
      "execution_count": null,
      "outputs": []
    },
    {
      "cell_type": "markdown",
      "metadata": {
        "id": "EtTComfXfdHe"
      },
      "source": [
        "# 3.Importar o tipo mais comum de rede neural\n"
      ]
    },
    {
      "cell_type": "code",
      "metadata": {
        "id": "ILJab01QerzD"
      },
      "source": [
        "from keras.models import Sequential #Também pode-se instanciar outros modelos - Referência: https://keras.io/models/model/"
      ],
      "execution_count": null,
      "outputs": []
    },
    {
      "cell_type": "markdown",
      "metadata": {
        "id": "z4cXkTVTgCDq"
      },
      "source": [
        "# 4.Definir instância do modelo\n"
      ]
    },
    {
      "cell_type": "code",
      "metadata": {
        "id": "dYF1ETQRgGD1"
      },
      "source": [
        "model = Sequential()"
      ],
      "execution_count": null,
      "outputs": []
    },
    {
      "cell_type": "code",
      "metadata": {
        "colab": {
          "base_uri": "https://localhost:8080/"
        },
        "id": "9VGRSZoqB506",
        "outputId": "4be76346-e60f-4da5-b031-5640fad795e9"
      },
      "source": [
        "type(model)"
      ],
      "execution_count": null,
      "outputs": [
        {
          "output_type": "execute_result",
          "data": {
            "text/plain": [
              "tensorflow.python.keras.engine.sequential.Sequential"
            ]
          },
          "metadata": {
            "tags": []
          },
          "execution_count": 32
        }
      ]
    },
    {
      "cell_type": "markdown",
      "metadata": {
        "id": "J9NQOEk-gINy"
      },
      "source": [
        "# 5.Importando o tipo mais comum de camada de rede, totalmente interconectada (Dense - fully connected)\n"
      ]
    },
    {
      "cell_type": "code",
      "metadata": {
        "id": "VcIZoM5KgNDJ"
      },
      "source": [
        "from keras.layers import Dense # Referência: https://keras.io/layers/"
      ],
      "execution_count": null,
      "outputs": []
    },
    {
      "cell_type": "markdown",
      "metadata": {
        "id": "wU5SnXkbgVHb"
      },
      "source": [
        "# 6.Definir camada de entrada\n"
      ]
    },
    {
      "cell_type": "code",
      "metadata": {
        "id": "X7PgKWnkgYEz"
      },
      "source": [
        "layer_input = Dense(units=512,            # Número de nós\n",
        "                    activation='sigmoid', # Não linearidade\n",
        "                    input_shape=(image_size,)) \n",
        "model.add(layer_input)"
      ],
      "execution_count": null,
      "outputs": []
    },
    {
      "cell_type": "markdown",
      "metadata": {
        "id": "IJMcz-HygeDo"
      },
      "source": [
        "# 7.Definindo outra camada"
      ]
    },
    {
      "cell_type": "code",
      "metadata": {
        "id": "vxeOxVVigfAW"
      },
      "source": [
        "model.add(Dense(units=512, activation='sigmoid'))"
      ],
      "execution_count": null,
      "outputs": []
    },
    {
      "cell_type": "markdown",
      "metadata": {
        "id": "3TMyUi5Rgiar"
      },
      "source": [
        "# 8.Definindo camadas de saída"
      ]
    },
    {
      "cell_type": "code",
      "metadata": {
        "id": "OHIEm1DJgtm4"
      },
      "source": [
        "layer_output = Dense(units=10,             # Número de dígitos (0-9)\n",
        "                     activation='softmax') # Converter ativação neural em probabilidade de categoria\n",
        "\n",
        "model.add(layer_output)"
      ],
      "execution_count": null,
      "outputs": []
    },
    {
      "cell_type": "markdown",
      "metadata": {
        "id": "2nCpYtrngxuh"
      },
      "source": [
        "# 9.Sumário da arquitetura utilizada"
      ]
    },
    {
      "cell_type": "code",
      "metadata": {
        "id": "zyHbLkjdgzeu",
        "colab": {
          "base_uri": "https://localhost:8080/"
        },
        "outputId": "2c34a109-4a2e-49cf-9ddb-915ed19f9e56"
      },
      "source": [
        "model.summary()"
      ],
      "execution_count": null,
      "outputs": [
        {
          "output_type": "stream",
          "text": [
            "Model: \"sequential\"\n",
            "_________________________________________________________________\n",
            "Layer (type)                 Output Shape              Param #   \n",
            "=================================================================\n",
            "dense (Dense)                (None, 512)               401920    \n",
            "_________________________________________________________________\n",
            "dense_1 (Dense)              (None, 512)               262656    \n",
            "_________________________________________________________________\n",
            "dense_2 (Dense)              (None, 10)                5130      \n",
            "=================================================================\n",
            "Total params: 669,706\n",
            "Trainable params: 669,706\n",
            "Non-trainable params: 0\n",
            "_________________________________________________________________\n"
          ],
          "name": "stdout"
        }
      ]
    },
    {
      "cell_type": "markdown",
      "metadata": {
        "id": "RV2QfZ1Zg5ic"
      },
      "source": [
        "# 10.Adicionando parâmetros de treinamento a arquitetura\n"
      ]
    },
    {
      "cell_type": "code",
      "metadata": {
        "id": "2cJIVyYRg84a"
      },
      "source": [
        "# Dica - muitas vezes é boa prática compilar o modelo antes de executá-lo\n",
        "model.compile(loss='categorical_crossentropy', \n",
        "              optimizer='sgd',\n",
        "              metrics=['accuracy'])"
      ],
      "execution_count": null,
      "outputs": []
    },
    {
      "cell_type": "markdown",
      "metadata": {
        "id": "vPBmHYX9hAvC"
      },
      "source": [
        "# 11.Treinando o modelo para aprender os pesos\n",
        "\n",
        "---\n",
        "\n",
        "\n"
      ]
    },
    {
      "cell_type": "code",
      "metadata": {
        "id": "C7pFjIBwhFMr",
        "colab": {
          "base_uri": "https://localhost:8080/"
        },
        "outputId": "b52e0532-38ac-43d3-8f11-50e4e04dd255"
      },
      "source": [
        "training = model.fit(x_train, \n",
        "                     y_train,\n",
        "                     epochs=5, # Número de \"passos\" no dataset completo\n",
        "                     verbose=True, \n",
        "                     validation_split=0.1)"
      ],
      "execution_count": null,
      "outputs": [
        {
          "output_type": "stream",
          "text": [
            "Epoch 1/5\n",
            "1688/1688 [==============================] - 13s 7ms/step - loss: 2.2488 - accuracy: 0.2040 - val_loss: 1.9154 - val_accuracy: 0.4728\n",
            "Epoch 2/5\n",
            "1688/1688 [==============================] - 12s 7ms/step - loss: 1.7111 - accuracy: 0.6076 - val_loss: 1.0754 - val_accuracy: 0.7317\n",
            "Epoch 3/5\n",
            "1688/1688 [==============================] - 12s 7ms/step - loss: 0.9982 - accuracy: 0.7646 - val_loss: 0.6779 - val_accuracy: 0.8450\n",
            "Epoch 4/5\n",
            "1688/1688 [==============================] - 12s 7ms/step - loss: 0.6995 - accuracy: 0.8209 - val_loss: 0.5154 - val_accuracy: 0.8733\n",
            "Epoch 5/5\n",
            "1688/1688 [==============================] - 13s 7ms/step - loss: 0.5665 - accuracy: 0.8487 - val_loss: 0.4341 - val_accuracy: 0.8922\n"
          ],
          "name": "stdout"
        }
      ]
    },
    {
      "cell_type": "markdown",
      "metadata": {
        "id": "HAsfBRWohfQ6"
      },
      "source": [
        "# 12.Avaliação de performance do nosso modelo\n"
      ]
    },
    {
      "cell_type": "code",
      "metadata": {
        "id": "JsXVccG3hhgS",
        "colab": {
          "base_uri": "https://localhost:8080/"
        },
        "outputId": "bc9b5ce6-b15f-4455-ceed-40f35b64680e"
      },
      "source": [
        "loss, accuracy = model.evaluate(x_test, \n",
        "                                y_test, \n",
        "                                verbose=True)\n",
        "print(f\"Perda teste: {loss:.3}\")\n",
        "print(f\"Acurácia teste: {accuracy:.3%}\")"
      ],
      "execution_count": null,
      "outputs": [
        {
          "output_type": "stream",
          "text": [
            "313/313 [==============================] - 1s 3ms/step - loss: 0.4854 - accuracy: 0.8694\n",
            "Perda teste: 0.485\n",
            "Acurácia teste: 86.940%\n"
          ],
          "name": "stdout"
        }
      ]
    }
  ]
}